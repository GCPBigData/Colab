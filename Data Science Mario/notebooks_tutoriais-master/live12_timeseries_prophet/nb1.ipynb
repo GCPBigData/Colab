{
 "cells": [
  {
   "cell_type": "code",
   "execution_count": 8,
   "metadata": {},
   "outputs": [
    {
     "name": "stdout",
     "output_type": "stream",
     "text": [
      "Populating the interactive namespace from numpy and matplotlib\n"
     ]
    }
   ],
   "source": [
    "%pylab inline\n",
    "import pandas as pd\n",
    "import numpy as np\n",
    "%matplotlib inline\n",
    "\n",
    "from fbprophet import Prophet\n"
   ]
  },
  {
   "cell_type": "markdown",
   "metadata": {},
   "source": [
    "# Começaremos às 20:05\n",
    "### Como Criar Soluções de Data Science em 5 Passos Simples Mesmo Sem Ter Experiência. Visite ManualdeDataScience.com"
   ]
  },
  {
   "cell_type": "markdown",
   "metadata": {},
   "source": [
    "# Prophet \n",
    "- Pessoas \"sem treinamento em time series\", mas com conhecimento do domínio fazerem previsões\n",
    "- Time series de negócios\n",
    "- Y = Tendência + Sazonalidade + Feriados\n",
    "- Especificação de eventos especiais (changepoints)\n",
    "- Sazonalidade = funções periódicas, série de Fourier\n",
    "- Especificação de feriados\n",
    "- Baselines sugeridas: último valor e média da amostra\n",
    "- Métrica preferida: MAPE\n",
    "- Requisitos: plotly e pip install holidays==0.9.12"
   ]
  },
  {
   "cell_type": "code",
   "execution_count": 9,
   "metadata": {},
   "outputs": [],
   "source": [
    "data = pd.read_csv(\"./data/sudeste.csv\", parse_dates=['mdct', 'date'])\n",
    "data.sort_values(\"mdct\", inplace=True)"
   ]
  },
  {
   "cell_type": "code",
   "execution_count": 10,
   "metadata": {},
   "outputs": [
    {
     "data": {
      "text/html": [
       "<div>\n",
       "<style scoped>\n",
       "    .dataframe tbody tr th:only-of-type {\n",
       "        vertical-align: middle;\n",
       "    }\n",
       "\n",
       "    .dataframe tbody tr th {\n",
       "        vertical-align: top;\n",
       "    }\n",
       "\n",
       "    .dataframe thead th {\n",
       "        text-align: right;\n",
       "    }\n",
       "</style>\n",
       "<table border=\"1\" class=\"dataframe\">\n",
       "  <thead>\n",
       "    <tr style=\"text-align: right;\">\n",
       "      <th></th>\n",
       "      <th>wsid</th>\n",
       "      <th>wsnm</th>\n",
       "      <th>elvt</th>\n",
       "      <th>lat</th>\n",
       "      <th>lon</th>\n",
       "      <th>inme</th>\n",
       "      <th>city</th>\n",
       "      <th>prov</th>\n",
       "      <th>mdct</th>\n",
       "      <th>date</th>\n",
       "      <th>yr</th>\n",
       "      <th>mo</th>\n",
       "      <th>da</th>\n",
       "      <th>hr</th>\n",
       "      <th>prcp</th>\n",
       "      <th>stp</th>\n",
       "      <th>smax</th>\n",
       "      <th>smin</th>\n",
       "      <th>gbrd</th>\n",
       "      <th>temp</th>\n",
       "      <th>dewp</th>\n",
       "      <th>tmax</th>\n",
       "      <th>dmax</th>\n",
       "      <th>tmin</th>\n",
       "      <th>dmin</th>\n",
       "      <th>hmdy</th>\n",
       "      <th>hmax</th>\n",
       "      <th>hmin</th>\n",
       "      <th>wdsp</th>\n",
       "      <th>wdct</th>\n",
       "      <th>gust</th>\n",
       "    </tr>\n",
       "  </thead>\n",
       "  <tbody>\n",
       "    <tr>\n",
       "      <td>5493152</td>\n",
       "      <td>371</td>\n",
       "      <td>ECOLOGIA AGRÍCOLA</td>\n",
       "      <td>35.0</td>\n",
       "      <td>-22.757868</td>\n",
       "      <td>-43.684843</td>\n",
       "      <td>A601</td>\n",
       "      <td>Seropédica</td>\n",
       "      <td>RJ</td>\n",
       "      <td>2000-05-24 00:00:00</td>\n",
       "      <td>2000-05-24</td>\n",
       "      <td>2000</td>\n",
       "      <td>5</td>\n",
       "      <td>24</td>\n",
       "      <td>0</td>\n",
       "      <td>0.0</td>\n",
       "      <td>0.0</td>\n",
       "      <td>0.0</td>\n",
       "      <td>0.0</td>\n",
       "      <td>NaN</td>\n",
       "      <td>0.0</td>\n",
       "      <td>0.0</td>\n",
       "      <td>0.0</td>\n",
       "      <td>0.0</td>\n",
       "      <td>0.0</td>\n",
       "      <td>0.0</td>\n",
       "      <td>0.0</td>\n",
       "      <td>0.0</td>\n",
       "      <td>0.0</td>\n",
       "      <td>0.0</td>\n",
       "      <td>0.0</td>\n",
       "      <td>0.0</td>\n",
       "    </tr>\n",
       "    <tr>\n",
       "      <td>5493153</td>\n",
       "      <td>371</td>\n",
       "      <td>ECOLOGIA AGRÍCOLA</td>\n",
       "      <td>35.0</td>\n",
       "      <td>-22.757868</td>\n",
       "      <td>-43.684843</td>\n",
       "      <td>A601</td>\n",
       "      <td>Seropédica</td>\n",
       "      <td>RJ</td>\n",
       "      <td>2000-05-24 01:00:00</td>\n",
       "      <td>2000-05-24</td>\n",
       "      <td>2000</td>\n",
       "      <td>5</td>\n",
       "      <td>24</td>\n",
       "      <td>1</td>\n",
       "      <td>0.0</td>\n",
       "      <td>0.0</td>\n",
       "      <td>0.0</td>\n",
       "      <td>0.0</td>\n",
       "      <td>NaN</td>\n",
       "      <td>0.0</td>\n",
       "      <td>0.0</td>\n",
       "      <td>0.0</td>\n",
       "      <td>0.0</td>\n",
       "      <td>0.0</td>\n",
       "      <td>0.0</td>\n",
       "      <td>0.0</td>\n",
       "      <td>0.0</td>\n",
       "      <td>0.0</td>\n",
       "      <td>0.0</td>\n",
       "      <td>0.0</td>\n",
       "      <td>0.0</td>\n",
       "    </tr>\n",
       "    <tr>\n",
       "      <td>5493154</td>\n",
       "      <td>371</td>\n",
       "      <td>ECOLOGIA AGRÍCOLA</td>\n",
       "      <td>35.0</td>\n",
       "      <td>-22.757868</td>\n",
       "      <td>-43.684843</td>\n",
       "      <td>A601</td>\n",
       "      <td>Seropédica</td>\n",
       "      <td>RJ</td>\n",
       "      <td>2000-05-24 02:00:00</td>\n",
       "      <td>2000-05-24</td>\n",
       "      <td>2000</td>\n",
       "      <td>5</td>\n",
       "      <td>24</td>\n",
       "      <td>2</td>\n",
       "      <td>0.0</td>\n",
       "      <td>0.0</td>\n",
       "      <td>0.0</td>\n",
       "      <td>0.0</td>\n",
       "      <td>NaN</td>\n",
       "      <td>0.0</td>\n",
       "      <td>0.0</td>\n",
       "      <td>0.0</td>\n",
       "      <td>0.0</td>\n",
       "      <td>0.0</td>\n",
       "      <td>0.0</td>\n",
       "      <td>0.0</td>\n",
       "      <td>0.0</td>\n",
       "      <td>0.0</td>\n",
       "      <td>0.0</td>\n",
       "      <td>0.0</td>\n",
       "      <td>0.0</td>\n",
       "    </tr>\n",
       "    <tr>\n",
       "      <td>5493155</td>\n",
       "      <td>371</td>\n",
       "      <td>ECOLOGIA AGRÍCOLA</td>\n",
       "      <td>35.0</td>\n",
       "      <td>-22.757868</td>\n",
       "      <td>-43.684843</td>\n",
       "      <td>A601</td>\n",
       "      <td>Seropédica</td>\n",
       "      <td>RJ</td>\n",
       "      <td>2000-05-24 03:00:00</td>\n",
       "      <td>2000-05-24</td>\n",
       "      <td>2000</td>\n",
       "      <td>5</td>\n",
       "      <td>24</td>\n",
       "      <td>3</td>\n",
       "      <td>0.0</td>\n",
       "      <td>0.0</td>\n",
       "      <td>0.0</td>\n",
       "      <td>0.0</td>\n",
       "      <td>NaN</td>\n",
       "      <td>0.0</td>\n",
       "      <td>0.0</td>\n",
       "      <td>0.0</td>\n",
       "      <td>0.0</td>\n",
       "      <td>0.0</td>\n",
       "      <td>0.0</td>\n",
       "      <td>0.0</td>\n",
       "      <td>0.0</td>\n",
       "      <td>0.0</td>\n",
       "      <td>0.0</td>\n",
       "      <td>0.0</td>\n",
       "      <td>0.0</td>\n",
       "    </tr>\n",
       "    <tr>\n",
       "      <td>5493156</td>\n",
       "      <td>371</td>\n",
       "      <td>ECOLOGIA AGRÍCOLA</td>\n",
       "      <td>35.0</td>\n",
       "      <td>-22.757868</td>\n",
       "      <td>-43.684843</td>\n",
       "      <td>A601</td>\n",
       "      <td>Seropédica</td>\n",
       "      <td>RJ</td>\n",
       "      <td>2000-05-24 04:00:00</td>\n",
       "      <td>2000-05-24</td>\n",
       "      <td>2000</td>\n",
       "      <td>5</td>\n",
       "      <td>24</td>\n",
       "      <td>4</td>\n",
       "      <td>0.0</td>\n",
       "      <td>0.0</td>\n",
       "      <td>0.0</td>\n",
       "      <td>0.0</td>\n",
       "      <td>NaN</td>\n",
       "      <td>0.0</td>\n",
       "      <td>0.0</td>\n",
       "      <td>0.0</td>\n",
       "      <td>0.0</td>\n",
       "      <td>0.0</td>\n",
       "      <td>0.0</td>\n",
       "      <td>0.0</td>\n",
       "      <td>0.0</td>\n",
       "      <td>0.0</td>\n",
       "      <td>0.0</td>\n",
       "      <td>0.0</td>\n",
       "      <td>0.0</td>\n",
       "    </tr>\n",
       "  </tbody>\n",
       "</table>\n",
       "</div>"
      ],
      "text/plain": [
       "         wsid               wsnm  elvt        lat        lon  inme  \\\n",
       "5493152   371  ECOLOGIA AGRÍCOLA  35.0 -22.757868 -43.684843  A601   \n",
       "5493153   371  ECOLOGIA AGRÍCOLA  35.0 -22.757868 -43.684843  A601   \n",
       "5493154   371  ECOLOGIA AGRÍCOLA  35.0 -22.757868 -43.684843  A601   \n",
       "5493155   371  ECOLOGIA AGRÍCOLA  35.0 -22.757868 -43.684843  A601   \n",
       "5493156   371  ECOLOGIA AGRÍCOLA  35.0 -22.757868 -43.684843  A601   \n",
       "\n",
       "               city prov                mdct       date    yr  mo  da  hr  \\\n",
       "5493152  Seropédica   RJ 2000-05-24 00:00:00 2000-05-24  2000   5  24   0   \n",
       "5493153  Seropédica   RJ 2000-05-24 01:00:00 2000-05-24  2000   5  24   1   \n",
       "5493154  Seropédica   RJ 2000-05-24 02:00:00 2000-05-24  2000   5  24   2   \n",
       "5493155  Seropédica   RJ 2000-05-24 03:00:00 2000-05-24  2000   5  24   3   \n",
       "5493156  Seropédica   RJ 2000-05-24 04:00:00 2000-05-24  2000   5  24   4   \n",
       "\n",
       "         prcp  stp  smax  smin  gbrd  temp  dewp  tmax  dmax  tmin  dmin  \\\n",
       "5493152   0.0  0.0   0.0   0.0   NaN   0.0   0.0   0.0   0.0   0.0   0.0   \n",
       "5493153   0.0  0.0   0.0   0.0   NaN   0.0   0.0   0.0   0.0   0.0   0.0   \n",
       "5493154   0.0  0.0   0.0   0.0   NaN   0.0   0.0   0.0   0.0   0.0   0.0   \n",
       "5493155   0.0  0.0   0.0   0.0   NaN   0.0   0.0   0.0   0.0   0.0   0.0   \n",
       "5493156   0.0  0.0   0.0   0.0   NaN   0.0   0.0   0.0   0.0   0.0   0.0   \n",
       "\n",
       "         hmdy  hmax  hmin  wdsp  wdct  gust  \n",
       "5493152   0.0   0.0   0.0   0.0   0.0   0.0  \n",
       "5493153   0.0   0.0   0.0   0.0   0.0   0.0  \n",
       "5493154   0.0   0.0   0.0   0.0   0.0   0.0  \n",
       "5493155   0.0   0.0   0.0   0.0   0.0   0.0  \n",
       "5493156   0.0   0.0   0.0   0.0   0.0   0.0  "
      ]
     },
     "execution_count": 10,
     "metadata": {},
     "output_type": "execute_result"
    }
   ],
   "source": [
    "pd.set_option(\"display.max_columns\", 31)\n",
    "data.head()"
   ]
  },
  {
   "cell_type": "code",
   "execution_count": 11,
   "metadata": {},
   "outputs": [
    {
     "data": {
      "text/plain": [
       "ECOLOGIA AGRÍCOLA      143376\n",
       "BAURU                  132264\n",
       "CAMPOS DO JORDÃO       127584\n",
       "XEREM                  122256\n",
       "MARAMBAIA              121824\n",
       "CAMBUCÍ                121536\n",
       "BARBACENA              121176\n",
       "FRANCA                 121008\n",
       "ALMENARA               120936\n",
       "UBERLÂNDIA             120864\n",
       "MONTES CLAROS          120840\n",
       "ARAXÁ                  120840\n",
       "PRESIDENTE PRUDENTE    119712\n",
       "MONTE VERDE            103296\n",
       "VIÇOSA                  96816\n",
       "TIMÓTEO                 92976\n",
       "ITUIUTABA               91080\n",
       "S.J.DEL REI             90408\n",
       "VARGINHA                89592\n",
       "CAMPINA VERDE           89544\n",
       "CONC. DAS ALAGOAS       89472\n",
       "PASSOS                  89472\n",
       "IGUAPE                  89424\n",
       "SAO PAULO               89304\n",
       "ITAPEVA                 89304\n",
       "OURO BRANCO             89232\n",
       "S. MIG. ARCANJO         88800\n",
       "FORMIGA                 88752\n",
       "SACRAMENTO              88704\n",
       "SERRA DOS AIMORES       88656\n",
       "Name: wsnm, dtype: int64"
      ]
     },
     "execution_count": 11,
     "metadata": {},
     "output_type": "execute_result"
    }
   ],
   "source": [
    "data['wsnm'].value_counts().head(30)"
   ]
  },
  {
   "cell_type": "code",
   "execution_count": 12,
   "metadata": {},
   "outputs": [],
   "source": [
    "data_sp = data[data['wsnm'] == 'SAO PAULO']\n",
    "data_varginha = data[data['wsnm'] == 'VARGINHA']"
   ]
  },
  {
   "cell_type": "code",
   "execution_count": 13,
   "metadata": {},
   "outputs": [
    {
     "data": {
      "text/html": [
       "<div>\n",
       "<style scoped>\n",
       "    .dataframe tbody tr th:only-of-type {\n",
       "        vertical-align: middle;\n",
       "    }\n",
       "\n",
       "    .dataframe tbody tr th {\n",
       "        vertical-align: top;\n",
       "    }\n",
       "\n",
       "    .dataframe thead th {\n",
       "        text-align: right;\n",
       "    }\n",
       "</style>\n",
       "<table border=\"1\" class=\"dataframe\">\n",
       "  <thead>\n",
       "    <tr style=\"text-align: right;\">\n",
       "      <th></th>\n",
       "      <th>wsid</th>\n",
       "      <th>wsnm</th>\n",
       "      <th>elvt</th>\n",
       "      <th>lat</th>\n",
       "      <th>lon</th>\n",
       "      <th>inme</th>\n",
       "      <th>city</th>\n",
       "      <th>prov</th>\n",
       "      <th>mdct</th>\n",
       "      <th>date</th>\n",
       "      <th>yr</th>\n",
       "      <th>mo</th>\n",
       "      <th>da</th>\n",
       "      <th>hr</th>\n",
       "      <th>prcp</th>\n",
       "      <th>stp</th>\n",
       "      <th>smax</th>\n",
       "      <th>smin</th>\n",
       "      <th>gbrd</th>\n",
       "      <th>temp</th>\n",
       "      <th>dewp</th>\n",
       "      <th>tmax</th>\n",
       "      <th>dmax</th>\n",
       "      <th>tmin</th>\n",
       "      <th>dmin</th>\n",
       "      <th>hmdy</th>\n",
       "      <th>hmax</th>\n",
       "      <th>hmin</th>\n",
       "      <th>wdsp</th>\n",
       "      <th>wdct</th>\n",
       "      <th>gust</th>\n",
       "    </tr>\n",
       "  </thead>\n",
       "  <tbody>\n",
       "    <tr>\n",
       "      <td>1950984</td>\n",
       "      <td>323</td>\n",
       "      <td>VARGINHA</td>\n",
       "      <td>950.0</td>\n",
       "      <td>-21.566513</td>\n",
       "      <td>-45.4043</td>\n",
       "      <td>A515</td>\n",
       "      <td>Varginha</td>\n",
       "      <td>MG</td>\n",
       "      <td>2006-07-13 00:00:00</td>\n",
       "      <td>2006-07-13</td>\n",
       "      <td>2006</td>\n",
       "      <td>7</td>\n",
       "      <td>13</td>\n",
       "      <td>0</td>\n",
       "      <td>0.0</td>\n",
       "      <td>0.0</td>\n",
       "      <td>0.0</td>\n",
       "      <td>0.0</td>\n",
       "      <td>NaN</td>\n",
       "      <td>0.0</td>\n",
       "      <td>0.0</td>\n",
       "      <td>0.0</td>\n",
       "      <td>0.0</td>\n",
       "      <td>0.0</td>\n",
       "      <td>0.0</td>\n",
       "      <td>0.0</td>\n",
       "      <td>0.0</td>\n",
       "      <td>0.0</td>\n",
       "      <td>0.0</td>\n",
       "      <td>0.0</td>\n",
       "      <td>0.0</td>\n",
       "    </tr>\n",
       "    <tr>\n",
       "      <td>1950985</td>\n",
       "      <td>323</td>\n",
       "      <td>VARGINHA</td>\n",
       "      <td>950.0</td>\n",
       "      <td>-21.566513</td>\n",
       "      <td>-45.4043</td>\n",
       "      <td>A515</td>\n",
       "      <td>Varginha</td>\n",
       "      <td>MG</td>\n",
       "      <td>2006-07-13 01:00:00</td>\n",
       "      <td>2006-07-13</td>\n",
       "      <td>2006</td>\n",
       "      <td>7</td>\n",
       "      <td>13</td>\n",
       "      <td>1</td>\n",
       "      <td>0.0</td>\n",
       "      <td>0.0</td>\n",
       "      <td>0.0</td>\n",
       "      <td>0.0</td>\n",
       "      <td>NaN</td>\n",
       "      <td>0.0</td>\n",
       "      <td>0.0</td>\n",
       "      <td>0.0</td>\n",
       "      <td>0.0</td>\n",
       "      <td>0.0</td>\n",
       "      <td>0.0</td>\n",
       "      <td>0.0</td>\n",
       "      <td>0.0</td>\n",
       "      <td>0.0</td>\n",
       "      <td>0.0</td>\n",
       "      <td>0.0</td>\n",
       "      <td>0.0</td>\n",
       "    </tr>\n",
       "    <tr>\n",
       "      <td>1950986</td>\n",
       "      <td>323</td>\n",
       "      <td>VARGINHA</td>\n",
       "      <td>950.0</td>\n",
       "      <td>-21.566513</td>\n",
       "      <td>-45.4043</td>\n",
       "      <td>A515</td>\n",
       "      <td>Varginha</td>\n",
       "      <td>MG</td>\n",
       "      <td>2006-07-13 02:00:00</td>\n",
       "      <td>2006-07-13</td>\n",
       "      <td>2006</td>\n",
       "      <td>7</td>\n",
       "      <td>13</td>\n",
       "      <td>2</td>\n",
       "      <td>0.0</td>\n",
       "      <td>0.0</td>\n",
       "      <td>0.0</td>\n",
       "      <td>0.0</td>\n",
       "      <td>NaN</td>\n",
       "      <td>0.0</td>\n",
       "      <td>0.0</td>\n",
       "      <td>0.0</td>\n",
       "      <td>0.0</td>\n",
       "      <td>0.0</td>\n",
       "      <td>0.0</td>\n",
       "      <td>0.0</td>\n",
       "      <td>0.0</td>\n",
       "      <td>0.0</td>\n",
       "      <td>0.0</td>\n",
       "      <td>0.0</td>\n",
       "      <td>0.0</td>\n",
       "    </tr>\n",
       "    <tr>\n",
       "      <td>1950987</td>\n",
       "      <td>323</td>\n",
       "      <td>VARGINHA</td>\n",
       "      <td>950.0</td>\n",
       "      <td>-21.566513</td>\n",
       "      <td>-45.4043</td>\n",
       "      <td>A515</td>\n",
       "      <td>Varginha</td>\n",
       "      <td>MG</td>\n",
       "      <td>2006-07-13 03:00:00</td>\n",
       "      <td>2006-07-13</td>\n",
       "      <td>2006</td>\n",
       "      <td>7</td>\n",
       "      <td>13</td>\n",
       "      <td>3</td>\n",
       "      <td>0.0</td>\n",
       "      <td>0.0</td>\n",
       "      <td>0.0</td>\n",
       "      <td>0.0</td>\n",
       "      <td>NaN</td>\n",
       "      <td>0.0</td>\n",
       "      <td>0.0</td>\n",
       "      <td>0.0</td>\n",
       "      <td>0.0</td>\n",
       "      <td>0.0</td>\n",
       "      <td>0.0</td>\n",
       "      <td>0.0</td>\n",
       "      <td>0.0</td>\n",
       "      <td>0.0</td>\n",
       "      <td>0.0</td>\n",
       "      <td>0.0</td>\n",
       "      <td>0.0</td>\n",
       "    </tr>\n",
       "    <tr>\n",
       "      <td>1950988</td>\n",
       "      <td>323</td>\n",
       "      <td>VARGINHA</td>\n",
       "      <td>950.0</td>\n",
       "      <td>-21.566513</td>\n",
       "      <td>-45.4043</td>\n",
       "      <td>A515</td>\n",
       "      <td>Varginha</td>\n",
       "      <td>MG</td>\n",
       "      <td>2006-07-13 04:00:00</td>\n",
       "      <td>2006-07-13</td>\n",
       "      <td>2006</td>\n",
       "      <td>7</td>\n",
       "      <td>13</td>\n",
       "      <td>4</td>\n",
       "      <td>0.0</td>\n",
       "      <td>0.0</td>\n",
       "      <td>0.0</td>\n",
       "      <td>0.0</td>\n",
       "      <td>NaN</td>\n",
       "      <td>0.0</td>\n",
       "      <td>0.0</td>\n",
       "      <td>0.0</td>\n",
       "      <td>0.0</td>\n",
       "      <td>0.0</td>\n",
       "      <td>0.0</td>\n",
       "      <td>0.0</td>\n",
       "      <td>0.0</td>\n",
       "      <td>0.0</td>\n",
       "      <td>0.0</td>\n",
       "      <td>0.0</td>\n",
       "      <td>0.0</td>\n",
       "    </tr>\n",
       "  </tbody>\n",
       "</table>\n",
       "</div>"
      ],
      "text/plain": [
       "         wsid      wsnm   elvt        lat      lon  inme      city prov  \\\n",
       "1950984   323  VARGINHA  950.0 -21.566513 -45.4043  A515  Varginha   MG   \n",
       "1950985   323  VARGINHA  950.0 -21.566513 -45.4043  A515  Varginha   MG   \n",
       "1950986   323  VARGINHA  950.0 -21.566513 -45.4043  A515  Varginha   MG   \n",
       "1950987   323  VARGINHA  950.0 -21.566513 -45.4043  A515  Varginha   MG   \n",
       "1950988   323  VARGINHA  950.0 -21.566513 -45.4043  A515  Varginha   MG   \n",
       "\n",
       "                       mdct       date    yr  mo  da  hr  prcp  stp  smax  \\\n",
       "1950984 2006-07-13 00:00:00 2006-07-13  2006   7  13   0   0.0  0.0   0.0   \n",
       "1950985 2006-07-13 01:00:00 2006-07-13  2006   7  13   1   0.0  0.0   0.0   \n",
       "1950986 2006-07-13 02:00:00 2006-07-13  2006   7  13   2   0.0  0.0   0.0   \n",
       "1950987 2006-07-13 03:00:00 2006-07-13  2006   7  13   3   0.0  0.0   0.0   \n",
       "1950988 2006-07-13 04:00:00 2006-07-13  2006   7  13   4   0.0  0.0   0.0   \n",
       "\n",
       "         smin  gbrd  temp  dewp  tmax  dmax  tmin  dmin  hmdy  hmax  hmin  \\\n",
       "1950984   0.0   NaN   0.0   0.0   0.0   0.0   0.0   0.0   0.0   0.0   0.0   \n",
       "1950985   0.0   NaN   0.0   0.0   0.0   0.0   0.0   0.0   0.0   0.0   0.0   \n",
       "1950986   0.0   NaN   0.0   0.0   0.0   0.0   0.0   0.0   0.0   0.0   0.0   \n",
       "1950987   0.0   NaN   0.0   0.0   0.0   0.0   0.0   0.0   0.0   0.0   0.0   \n",
       "1950988   0.0   NaN   0.0   0.0   0.0   0.0   0.0   0.0   0.0   0.0   0.0   \n",
       "\n",
       "         wdsp  wdct  gust  \n",
       "1950984   0.0   0.0   0.0  \n",
       "1950985   0.0   0.0   0.0  \n",
       "1950986   0.0   0.0   0.0  \n",
       "1950987   0.0   0.0   0.0  \n",
       "1950988   0.0   0.0   0.0  "
      ]
     },
     "execution_count": 13,
     "metadata": {},
     "output_type": "execute_result"
    }
   ],
   "source": [
    "data_varginha.head()"
   ]
  },
  {
   "cell_type": "markdown",
   "metadata": {},
   "source": [
    "Instant Air Temperature (celsius degrees)  \n",
    "Maximum Air Temperature (celsius degrees)  \n",
    "Minimum Air Temperature (celsius degrees)  \n",
    "Relative Humidity of Air (%)  \n",
    "Maximum Relative Air Humidity (%)  \n",
    "Minimum Relative Air Humidity (%)  \n",
    "Instant Dew Point (celsius degrees)  \n",
    "Maximum Dew Point (celsius degrees)  \n",
    "Minimum Dew Point Temperature (celsius degrees)  \n",
    "Instant Air Atmospheric Pressure (millibars)  \n",
    "Maximum Air Atmospheric Pressure (millibars)  \n",
    "Minimum Air Atmospheric Pressure (millibars)  \n",
    "Instant Wind Speed (metres per second)  \n",
    "Wind Direction (radius degrees)  \n",
    "Wind Gust Intensity (metres per second)  \n",
    "Solar radiation  \n",
    "Precipitation (milimetres)  "
   ]
  },
  {
   "cell_type": "code",
   "execution_count": 14,
   "metadata": {},
   "outputs": [
    {
     "name": "stderr",
     "output_type": "stream",
     "text": [
      "/Users/mario/miniconda3/lib/python3.7/site-packages/ipykernel_launcher.py:1: SettingWithCopyWarning:\n",
      "\n",
      "\n",
      "A value is trying to be set on a copy of a slice from a DataFrame.\n",
      "Try using .loc[row_indexer,col_indexer] = value instead\n",
      "\n",
      "See the caveats in the documentation: http://pandas.pydata.org/pandas-docs/stable/user_guide/indexing.html#returning-a-view-versus-a-copy\n",
      "\n"
     ]
    }
   ],
   "source": [
    "data_varginha['zero'] = data_varginha['tmax'] == 0"
   ]
  },
  {
   "cell_type": "code",
   "execution_count": 15,
   "metadata": {},
   "outputs": [
    {
     "data": {
      "text/plain": [
       "date\n",
       "2016-08-08    24.0\n",
       "2016-08-09    24.0\n",
       "2016-08-10    24.0\n",
       "2016-08-11    24.0\n",
       "2016-08-12    24.0\n",
       "2016-08-13    24.0\n",
       "2016-08-14    24.0\n",
       "2016-08-15    24.0\n",
       "2016-08-16    24.0\n",
       "2016-08-17    24.0\n",
       "2016-08-18    24.0\n",
       "2016-08-19    24.0\n",
       "2016-08-20    24.0\n",
       "2016-08-21    24.0\n",
       "2016-08-22    24.0\n",
       "2016-08-23    24.0\n",
       "2016-08-24    24.0\n",
       "2016-08-25    24.0\n",
       "2016-08-26    24.0\n",
       "2016-08-27    24.0\n",
       "2016-08-28    24.0\n",
       "2016-08-29    24.0\n",
       "2016-08-30    24.0\n",
       "2016-08-31    24.0\n",
       "2016-09-01    24.0\n",
       "2016-09-02    24.0\n",
       "2016-09-03    24.0\n",
       "2016-09-04    24.0\n",
       "2016-09-05    24.0\n",
       "2016-09-06    13.0\n",
       "Name: zero, dtype: float64"
      ]
     },
     "execution_count": 15,
     "metadata": {},
     "output_type": "execute_result"
    }
   ],
   "source": [
    "zeros = data_varginha.groupby(\"date\")['zero'].sum()\n",
    "zeros[zeros != 0].tail(30)"
   ]
  },
  {
   "cell_type": "code",
   "execution_count": 64,
   "metadata": {},
   "outputs": [
    {
     "data": {
      "text/plain": [
       "0.23470319634703196"
      ]
     },
     "execution_count": 64,
     "metadata": {},
     "output_type": "execute_result"
    }
   ],
   "source": [
    "2056/8760"
   ]
  },
  {
   "cell_type": "code",
   "execution_count": 16,
   "metadata": {},
   "outputs": [
    {
     "data": {
      "text/plain": [
       "date\n",
       "2006      68.0\n",
       "2007      90.0\n",
       "2008       7.0\n",
       "2009      24.0\n",
       "2010      10.0\n",
       "2011       8.0\n",
       "2012       3.0\n",
       "2013      15.0\n",
       "2014       4.0\n",
       "2015       2.0\n",
       "2016    2056.0\n",
       "Name: zero, dtype: float64"
      ]
     },
     "execution_count": 16,
     "metadata": {},
     "output_type": "execute_result"
    }
   ],
   "source": [
    "data_varginha.groupby(data_varginha['date'].dt.year)['zero'].sum()"
   ]
  },
  {
   "cell_type": "code",
   "execution_count": 17,
   "metadata": {},
   "outputs": [],
   "source": [
    "data_varginha = data_varginha[data_varginha['date'] < \"2016-01-01\"]"
   ]
  },
  {
   "cell_type": "code",
   "execution_count": 18,
   "metadata": {},
   "outputs": [],
   "source": [
    "tmax = data_varginha[['mdct','tmax']]\n",
    "tmax.columns = ['ds', 'y']"
   ]
  },
  {
   "cell_type": "code",
   "execution_count": 19,
   "metadata": {},
   "outputs": [
    {
     "data": {
      "text/html": [
       "<div>\n",
       "<style scoped>\n",
       "    .dataframe tbody tr th:only-of-type {\n",
       "        vertical-align: middle;\n",
       "    }\n",
       "\n",
       "    .dataframe tbody tr th {\n",
       "        vertical-align: top;\n",
       "    }\n",
       "\n",
       "    .dataframe thead th {\n",
       "        text-align: right;\n",
       "    }\n",
       "</style>\n",
       "<table border=\"1\" class=\"dataframe\">\n",
       "  <thead>\n",
       "    <tr style=\"text-align: right;\">\n",
       "      <th></th>\n",
       "      <th>ds</th>\n",
       "      <th>y</th>\n",
       "    </tr>\n",
       "  </thead>\n",
       "  <tbody>\n",
       "    <tr>\n",
       "      <td>2033995</td>\n",
       "      <td>2015-12-31 19:00:00</td>\n",
       "      <td>29.7</td>\n",
       "    </tr>\n",
       "    <tr>\n",
       "      <td>2033996</td>\n",
       "      <td>2015-12-31 20:00:00</td>\n",
       "      <td>28.5</td>\n",
       "    </tr>\n",
       "    <tr>\n",
       "      <td>2033997</td>\n",
       "      <td>2015-12-31 21:00:00</td>\n",
       "      <td>27.3</td>\n",
       "    </tr>\n",
       "    <tr>\n",
       "      <td>2033998</td>\n",
       "      <td>2015-12-31 22:00:00</td>\n",
       "      <td>25.4</td>\n",
       "    </tr>\n",
       "    <tr>\n",
       "      <td>2033999</td>\n",
       "      <td>2015-12-31 23:00:00</td>\n",
       "      <td>23.3</td>\n",
       "    </tr>\n",
       "  </tbody>\n",
       "</table>\n",
       "</div>"
      ],
      "text/plain": [
       "                         ds     y\n",
       "2033995 2015-12-31 19:00:00  29.7\n",
       "2033996 2015-12-31 20:00:00  28.5\n",
       "2033997 2015-12-31 21:00:00  27.3\n",
       "2033998 2015-12-31 22:00:00  25.4\n",
       "2033999 2015-12-31 23:00:00  23.3"
      ]
     },
     "execution_count": 19,
     "metadata": {},
     "output_type": "execute_result"
    }
   ],
   "source": [
    "tmax.tail()"
   ]
  },
  {
   "cell_type": "code",
   "execution_count": 66,
   "metadata": {},
   "outputs": [],
   "source": [
    "train = tmax[tmax['ds'].dt.date == pd.to_datetime('2015-06-26')]\n",
    "test = tmax[tmax['ds'].dt.date == pd.to_datetime('2015-06-27')]"
   ]
  },
  {
   "cell_type": "code",
   "execution_count": 68,
   "metadata": {},
   "outputs": [
    {
     "data": {
      "text/plain": [
       "((24, 2), (24, 2))"
      ]
     },
     "execution_count": 68,
     "metadata": {},
     "output_type": "execute_result"
    }
   ],
   "source": [
    "train.shape, test.shape"
   ]
  },
  {
   "cell_type": "code",
   "execution_count": 22,
   "metadata": {},
   "outputs": [],
   "source": [
    "def mape(ytrue, ypred): # erro médio percentual absoluto\n",
    "    ytrue = ytrue.values\n",
    "    ypred = ypred.values\n",
    "    return np.mean( np.abs((ytrue - ypred) / ytrue) )"
   ]
  },
  {
   "cell_type": "code",
   "execution_count": 23,
   "metadata": {},
   "outputs": [
    {
     "name": "stdout",
     "output_type": "stream",
     "text": [
      "baseline 0.09653130463780384\n"
     ]
    }
   ],
   "source": [
    "print(\"baseline\", mape(test['y'], train['y']))"
   ]
  },
  {
   "cell_type": "code",
   "execution_count": 70,
   "metadata": {},
   "outputs": [
    {
     "name": "stderr",
     "output_type": "stream",
     "text": [
      "INFO:fbprophet:Disabling yearly seasonality. Run prophet with yearly_seasonality=True to override this.\n",
      "INFO:fbprophet:Disabling weekly seasonality. Run prophet with weekly_seasonality=True to override this.\n",
      "INFO:fbprophet:Disabling daily seasonality. Run prophet with daily_seasonality=True to override this.\n",
      "INFO:fbprophet:n_changepoints greater than number of observations.Using 18.\n"
     ]
    },
    {
     "data": {
      "text/plain": [
       "<fbprophet.forecaster.Prophet at 0x7fa333568828>"
      ]
     },
     "execution_count": 70,
     "metadata": {},
     "output_type": "execute_result"
    }
   ],
   "source": [
    "prophet = Prophet()\n",
    "prophet.fit(train)"
   ]
  },
  {
   "cell_type": "code",
   "execution_count": 71,
   "metadata": {},
   "outputs": [
    {
     "data": {
      "text/html": [
       "<div>\n",
       "<style scoped>\n",
       "    .dataframe tbody tr th:only-of-type {\n",
       "        vertical-align: middle;\n",
       "    }\n",
       "\n",
       "    .dataframe tbody tr th {\n",
       "        vertical-align: top;\n",
       "    }\n",
       "\n",
       "    .dataframe thead th {\n",
       "        text-align: right;\n",
       "    }\n",
       "</style>\n",
       "<table border=\"1\" class=\"dataframe\">\n",
       "  <thead>\n",
       "    <tr style=\"text-align: right;\">\n",
       "      <th></th>\n",
       "      <th>ds</th>\n",
       "      <th>y</th>\n",
       "    </tr>\n",
       "  </thead>\n",
       "  <tbody>\n",
       "    <tr>\n",
       "      <td>2029464</td>\n",
       "      <td>2015-06-26 00:00:00</td>\n",
       "      <td>13.7</td>\n",
       "    </tr>\n",
       "    <tr>\n",
       "      <td>2029465</td>\n",
       "      <td>2015-06-26 01:00:00</td>\n",
       "      <td>13.5</td>\n",
       "    </tr>\n",
       "    <tr>\n",
       "      <td>2029466</td>\n",
       "      <td>2015-06-26 02:00:00</td>\n",
       "      <td>13.5</td>\n",
       "    </tr>\n",
       "    <tr>\n",
       "      <td>2029467</td>\n",
       "      <td>2015-06-26 03:00:00</td>\n",
       "      <td>13.0</td>\n",
       "    </tr>\n",
       "    <tr>\n",
       "      <td>2029468</td>\n",
       "      <td>2015-06-26 04:00:00</td>\n",
       "      <td>12.6</td>\n",
       "    </tr>\n",
       "    <tr>\n",
       "      <td>2029469</td>\n",
       "      <td>2015-06-26 05:00:00</td>\n",
       "      <td>12.4</td>\n",
       "    </tr>\n",
       "    <tr>\n",
       "      <td>2029470</td>\n",
       "      <td>2015-06-26 06:00:00</td>\n",
       "      <td>11.9</td>\n",
       "    </tr>\n",
       "    <tr>\n",
       "      <td>2029471</td>\n",
       "      <td>2015-06-26 07:00:00</td>\n",
       "      <td>12.2</td>\n",
       "    </tr>\n",
       "    <tr>\n",
       "      <td>2029472</td>\n",
       "      <td>2015-06-26 08:00:00</td>\n",
       "      <td>11.3</td>\n",
       "    </tr>\n",
       "    <tr>\n",
       "      <td>2029473</td>\n",
       "      <td>2015-06-26 09:00:00</td>\n",
       "      <td>11.2</td>\n",
       "    </tr>\n",
       "    <tr>\n",
       "      <td>2029474</td>\n",
       "      <td>2015-06-26 10:00:00</td>\n",
       "      <td>11.3</td>\n",
       "    </tr>\n",
       "    <tr>\n",
       "      <td>2029475</td>\n",
       "      <td>2015-06-26 11:00:00</td>\n",
       "      <td>11.5</td>\n",
       "    </tr>\n",
       "    <tr>\n",
       "      <td>2029476</td>\n",
       "      <td>2015-06-26 12:00:00</td>\n",
       "      <td>14.7</td>\n",
       "    </tr>\n",
       "    <tr>\n",
       "      <td>2029477</td>\n",
       "      <td>2015-06-26 13:00:00</td>\n",
       "      <td>16.6</td>\n",
       "    </tr>\n",
       "    <tr>\n",
       "      <td>2029478</td>\n",
       "      <td>2015-06-26 14:00:00</td>\n",
       "      <td>17.6</td>\n",
       "    </tr>\n",
       "    <tr>\n",
       "      <td>2029479</td>\n",
       "      <td>2015-06-26 15:00:00</td>\n",
       "      <td>18.9</td>\n",
       "    </tr>\n",
       "    <tr>\n",
       "      <td>2029480</td>\n",
       "      <td>2015-06-26 16:00:00</td>\n",
       "      <td>19.9</td>\n",
       "    </tr>\n",
       "    <tr>\n",
       "      <td>2029481</td>\n",
       "      <td>2015-06-26 17:00:00</td>\n",
       "      <td>20.3</td>\n",
       "    </tr>\n",
       "    <tr>\n",
       "      <td>2029482</td>\n",
       "      <td>2015-06-26 18:00:00</td>\n",
       "      <td>20.3</td>\n",
       "    </tr>\n",
       "    <tr>\n",
       "      <td>2029483</td>\n",
       "      <td>2015-06-26 19:00:00</td>\n",
       "      <td>20.3</td>\n",
       "    </tr>\n",
       "    <tr>\n",
       "      <td>2029484</td>\n",
       "      <td>2015-06-26 20:00:00</td>\n",
       "      <td>19.3</td>\n",
       "    </tr>\n",
       "    <tr>\n",
       "      <td>2029485</td>\n",
       "      <td>2015-06-26 21:00:00</td>\n",
       "      <td>17.2</td>\n",
       "    </tr>\n",
       "    <tr>\n",
       "      <td>2029486</td>\n",
       "      <td>2015-06-26 22:00:00</td>\n",
       "      <td>15.1</td>\n",
       "    </tr>\n",
       "    <tr>\n",
       "      <td>2029487</td>\n",
       "      <td>2015-06-26 23:00:00</td>\n",
       "      <td>14.2</td>\n",
       "    </tr>\n",
       "  </tbody>\n",
       "</table>\n",
       "</div>"
      ],
      "text/plain": [
       "                         ds     y\n",
       "2029464 2015-06-26 00:00:00  13.7\n",
       "2029465 2015-06-26 01:00:00  13.5\n",
       "2029466 2015-06-26 02:00:00  13.5\n",
       "2029467 2015-06-26 03:00:00  13.0\n",
       "2029468 2015-06-26 04:00:00  12.6\n",
       "2029469 2015-06-26 05:00:00  12.4\n",
       "2029470 2015-06-26 06:00:00  11.9\n",
       "2029471 2015-06-26 07:00:00  12.2\n",
       "2029472 2015-06-26 08:00:00  11.3\n",
       "2029473 2015-06-26 09:00:00  11.2\n",
       "2029474 2015-06-26 10:00:00  11.3\n",
       "2029475 2015-06-26 11:00:00  11.5\n",
       "2029476 2015-06-26 12:00:00  14.7\n",
       "2029477 2015-06-26 13:00:00  16.6\n",
       "2029478 2015-06-26 14:00:00  17.6\n",
       "2029479 2015-06-26 15:00:00  18.9\n",
       "2029480 2015-06-26 16:00:00  19.9\n",
       "2029481 2015-06-26 17:00:00  20.3\n",
       "2029482 2015-06-26 18:00:00  20.3\n",
       "2029483 2015-06-26 19:00:00  20.3\n",
       "2029484 2015-06-26 20:00:00  19.3\n",
       "2029485 2015-06-26 21:00:00  17.2\n",
       "2029486 2015-06-26 22:00:00  15.1\n",
       "2029487 2015-06-26 23:00:00  14.2"
      ]
     },
     "execution_count": 71,
     "metadata": {},
     "output_type": "execute_result"
    }
   ],
   "source": [
    "train"
   ]
  },
  {
   "cell_type": "code",
   "execution_count": 26,
   "metadata": {},
   "outputs": [
    {
     "data": {
      "text/plain": [
       "\u001b[0;31mSignature:\u001b[0m \u001b[0mprophet\u001b[0m\u001b[0;34m.\u001b[0m\u001b[0mmake_future_dataframe\u001b[0m\u001b[0;34m(\u001b[0m\u001b[0mperiods\u001b[0m\u001b[0;34m,\u001b[0m \u001b[0mfreq\u001b[0m\u001b[0;34m=\u001b[0m\u001b[0;34m'D'\u001b[0m\u001b[0;34m,\u001b[0m \u001b[0minclude_history\u001b[0m\u001b[0;34m=\u001b[0m\u001b[0;32mTrue\u001b[0m\u001b[0;34m)\u001b[0m\u001b[0;34m\u001b[0m\u001b[0;34m\u001b[0m\u001b[0m\n",
       "\u001b[0;31mDocstring:\u001b[0m\n",
       "Simulate the trend using the extrapolated generative model.\n",
       "\n",
       "Parameters\n",
       "----------\n",
       "periods: Int number of periods to forecast forward.\n",
       "freq: Any valid frequency for pd.date_range, such as 'D' or 'M'.\n",
       "include_history: Boolean to include the historical dates in the data\n",
       "    frame for predictions.\n",
       "\n",
       "Returns\n",
       "-------\n",
       "pd.Dataframe that extends forward from the end of self.history for the\n",
       "requested number of periods.\n",
       "\u001b[0;31mFile:\u001b[0m      ~/miniconda3/lib/python3.7/site-packages/fbprophet/forecaster.py\n",
       "\u001b[0;31mType:\u001b[0m      method\n"
      ]
     },
     "metadata": {},
     "output_type": "display_data"
    }
   ],
   "source": [
    "?prophet.make_future_dataframe"
   ]
  },
  {
   "cell_type": "code",
   "execution_count": 83,
   "metadata": {},
   "outputs": [],
   "source": [
    "future = prophet.make_future_dataframe(24, include_history=False, freq='H')"
   ]
  },
  {
   "cell_type": "code",
   "execution_count": 84,
   "metadata": {},
   "outputs": [
    {
     "data": {
      "text/html": [
       "<div>\n",
       "<style scoped>\n",
       "    .dataframe tbody tr th:only-of-type {\n",
       "        vertical-align: middle;\n",
       "    }\n",
       "\n",
       "    .dataframe tbody tr th {\n",
       "        vertical-align: top;\n",
       "    }\n",
       "\n",
       "    .dataframe thead th {\n",
       "        text-align: right;\n",
       "    }\n",
       "</style>\n",
       "<table border=\"1\" class=\"dataframe\">\n",
       "  <thead>\n",
       "    <tr style=\"text-align: right;\">\n",
       "      <th></th>\n",
       "      <th>ds</th>\n",
       "    </tr>\n",
       "  </thead>\n",
       "  <tbody>\n",
       "    <tr>\n",
       "      <td>0</td>\n",
       "      <td>2015-06-27 00:00:00</td>\n",
       "    </tr>\n",
       "    <tr>\n",
       "      <td>1</td>\n",
       "      <td>2015-06-27 01:00:00</td>\n",
       "    </tr>\n",
       "    <tr>\n",
       "      <td>2</td>\n",
       "      <td>2015-06-27 02:00:00</td>\n",
       "    </tr>\n",
       "    <tr>\n",
       "      <td>3</td>\n",
       "      <td>2015-06-27 03:00:00</td>\n",
       "    </tr>\n",
       "    <tr>\n",
       "      <td>4</td>\n",
       "      <td>2015-06-27 04:00:00</td>\n",
       "    </tr>\n",
       "    <tr>\n",
       "      <td>5</td>\n",
       "      <td>2015-06-27 05:00:00</td>\n",
       "    </tr>\n",
       "    <tr>\n",
       "      <td>6</td>\n",
       "      <td>2015-06-27 06:00:00</td>\n",
       "    </tr>\n",
       "    <tr>\n",
       "      <td>7</td>\n",
       "      <td>2015-06-27 07:00:00</td>\n",
       "    </tr>\n",
       "    <tr>\n",
       "      <td>8</td>\n",
       "      <td>2015-06-27 08:00:00</td>\n",
       "    </tr>\n",
       "    <tr>\n",
       "      <td>9</td>\n",
       "      <td>2015-06-27 09:00:00</td>\n",
       "    </tr>\n",
       "    <tr>\n",
       "      <td>10</td>\n",
       "      <td>2015-06-27 10:00:00</td>\n",
       "    </tr>\n",
       "    <tr>\n",
       "      <td>11</td>\n",
       "      <td>2015-06-27 11:00:00</td>\n",
       "    </tr>\n",
       "    <tr>\n",
       "      <td>12</td>\n",
       "      <td>2015-06-27 12:00:00</td>\n",
       "    </tr>\n",
       "    <tr>\n",
       "      <td>13</td>\n",
       "      <td>2015-06-27 13:00:00</td>\n",
       "    </tr>\n",
       "    <tr>\n",
       "      <td>14</td>\n",
       "      <td>2015-06-27 14:00:00</td>\n",
       "    </tr>\n",
       "    <tr>\n",
       "      <td>15</td>\n",
       "      <td>2015-06-27 15:00:00</td>\n",
       "    </tr>\n",
       "    <tr>\n",
       "      <td>16</td>\n",
       "      <td>2015-06-27 16:00:00</td>\n",
       "    </tr>\n",
       "    <tr>\n",
       "      <td>17</td>\n",
       "      <td>2015-06-27 17:00:00</td>\n",
       "    </tr>\n",
       "    <tr>\n",
       "      <td>18</td>\n",
       "      <td>2015-06-27 18:00:00</td>\n",
       "    </tr>\n",
       "    <tr>\n",
       "      <td>19</td>\n",
       "      <td>2015-06-27 19:00:00</td>\n",
       "    </tr>\n",
       "    <tr>\n",
       "      <td>20</td>\n",
       "      <td>2015-06-27 20:00:00</td>\n",
       "    </tr>\n",
       "    <tr>\n",
       "      <td>21</td>\n",
       "      <td>2015-06-27 21:00:00</td>\n",
       "    </tr>\n",
       "    <tr>\n",
       "      <td>22</td>\n",
       "      <td>2015-06-27 22:00:00</td>\n",
       "    </tr>\n",
       "    <tr>\n",
       "      <td>23</td>\n",
       "      <td>2015-06-27 23:00:00</td>\n",
       "    </tr>\n",
       "  </tbody>\n",
       "</table>\n",
       "</div>"
      ],
      "text/plain": [
       "                    ds\n",
       "0  2015-06-27 00:00:00\n",
       "1  2015-06-27 01:00:00\n",
       "2  2015-06-27 02:00:00\n",
       "3  2015-06-27 03:00:00\n",
       "4  2015-06-27 04:00:00\n",
       "5  2015-06-27 05:00:00\n",
       "6  2015-06-27 06:00:00\n",
       "7  2015-06-27 07:00:00\n",
       "8  2015-06-27 08:00:00\n",
       "9  2015-06-27 09:00:00\n",
       "10 2015-06-27 10:00:00\n",
       "11 2015-06-27 11:00:00\n",
       "12 2015-06-27 12:00:00\n",
       "13 2015-06-27 13:00:00\n",
       "14 2015-06-27 14:00:00\n",
       "15 2015-06-27 15:00:00\n",
       "16 2015-06-27 16:00:00\n",
       "17 2015-06-27 17:00:00\n",
       "18 2015-06-27 18:00:00\n",
       "19 2015-06-27 19:00:00\n",
       "20 2015-06-27 20:00:00\n",
       "21 2015-06-27 21:00:00\n",
       "22 2015-06-27 22:00:00\n",
       "23 2015-06-27 23:00:00"
      ]
     },
     "execution_count": 84,
     "metadata": {},
     "output_type": "execute_result"
    }
   ],
   "source": [
    "future"
   ]
  },
  {
   "cell_type": "code",
   "execution_count": 74,
   "metadata": {},
   "outputs": [],
   "source": [
    "p = prophet.predict(future)"
   ]
  },
  {
   "cell_type": "code",
   "execution_count": 75,
   "metadata": {},
   "outputs": [
    {
     "data": {
      "text/html": [
       "<div>\n",
       "<style scoped>\n",
       "    .dataframe tbody tr th:only-of-type {\n",
       "        vertical-align: middle;\n",
       "    }\n",
       "\n",
       "    .dataframe tbody tr th {\n",
       "        vertical-align: top;\n",
       "    }\n",
       "\n",
       "    .dataframe thead th {\n",
       "        text-align: right;\n",
       "    }\n",
       "</style>\n",
       "<table border=\"1\" class=\"dataframe\">\n",
       "  <thead>\n",
       "    <tr style=\"text-align: right;\">\n",
       "      <th></th>\n",
       "      <th>ds</th>\n",
       "      <th>trend</th>\n",
       "      <th>yhat_lower</th>\n",
       "      <th>yhat_upper</th>\n",
       "      <th>trend_lower</th>\n",
       "      <th>trend_upper</th>\n",
       "      <th>additive_terms</th>\n",
       "      <th>additive_terms_lower</th>\n",
       "      <th>additive_terms_upper</th>\n",
       "      <th>multiplicative_terms</th>\n",
       "      <th>multiplicative_terms_lower</th>\n",
       "      <th>multiplicative_terms_upper</th>\n",
       "      <th>yhat</th>\n",
       "    </tr>\n",
       "  </thead>\n",
       "  <tbody>\n",
       "    <tr>\n",
       "      <td>0</td>\n",
       "      <td>2015-06-27 00:00:00</td>\n",
       "      <td>18.940339</td>\n",
       "      <td>15.632202</td>\n",
       "      <td>22.037770</td>\n",
       "      <td>18.940339</td>\n",
       "      <td>18.940339</td>\n",
       "      <td>0.0</td>\n",
       "      <td>0.0</td>\n",
       "      <td>0.0</td>\n",
       "      <td>0.0</td>\n",
       "      <td>0.0</td>\n",
       "      <td>0.0</td>\n",
       "      <td>18.940339</td>\n",
       "    </tr>\n",
       "    <tr>\n",
       "      <td>1</td>\n",
       "      <td>2015-06-27 01:00:00</td>\n",
       "      <td>19.247349</td>\n",
       "      <td>16.300272</td>\n",
       "      <td>22.309742</td>\n",
       "      <td>19.247349</td>\n",
       "      <td>19.247349</td>\n",
       "      <td>0.0</td>\n",
       "      <td>0.0</td>\n",
       "      <td>0.0</td>\n",
       "      <td>0.0</td>\n",
       "      <td>0.0</td>\n",
       "      <td>0.0</td>\n",
       "      <td>19.247349</td>\n",
       "    </tr>\n",
       "    <tr>\n",
       "      <td>2</td>\n",
       "      <td>2015-06-27 02:00:00</td>\n",
       "      <td>19.554360</td>\n",
       "      <td>16.303437</td>\n",
       "      <td>22.439506</td>\n",
       "      <td>19.554360</td>\n",
       "      <td>19.554360</td>\n",
       "      <td>0.0</td>\n",
       "      <td>0.0</td>\n",
       "      <td>0.0</td>\n",
       "      <td>0.0</td>\n",
       "      <td>0.0</td>\n",
       "      <td>0.0</td>\n",
       "      <td>19.554360</td>\n",
       "    </tr>\n",
       "    <tr>\n",
       "      <td>3</td>\n",
       "      <td>2015-06-27 03:00:00</td>\n",
       "      <td>19.861370</td>\n",
       "      <td>16.758593</td>\n",
       "      <td>23.081813</td>\n",
       "      <td>19.861370</td>\n",
       "      <td>19.861370</td>\n",
       "      <td>0.0</td>\n",
       "      <td>0.0</td>\n",
       "      <td>0.0</td>\n",
       "      <td>0.0</td>\n",
       "      <td>0.0</td>\n",
       "      <td>0.0</td>\n",
       "      <td>19.861370</td>\n",
       "    </tr>\n",
       "    <tr>\n",
       "      <td>4</td>\n",
       "      <td>2015-06-27 04:00:00</td>\n",
       "      <td>20.168381</td>\n",
       "      <td>17.410344</td>\n",
       "      <td>23.469005</td>\n",
       "      <td>20.168380</td>\n",
       "      <td>20.168381</td>\n",
       "      <td>0.0</td>\n",
       "      <td>0.0</td>\n",
       "      <td>0.0</td>\n",
       "      <td>0.0</td>\n",
       "      <td>0.0</td>\n",
       "      <td>0.0</td>\n",
       "      <td>20.168381</td>\n",
       "    </tr>\n",
       "    <tr>\n",
       "      <td>5</td>\n",
       "      <td>2015-06-27 05:00:00</td>\n",
       "      <td>20.475391</td>\n",
       "      <td>17.511930</td>\n",
       "      <td>23.487640</td>\n",
       "      <td>20.475391</td>\n",
       "      <td>20.475391</td>\n",
       "      <td>0.0</td>\n",
       "      <td>0.0</td>\n",
       "      <td>0.0</td>\n",
       "      <td>0.0</td>\n",
       "      <td>0.0</td>\n",
       "      <td>0.0</td>\n",
       "      <td>20.475391</td>\n",
       "    </tr>\n",
       "    <tr>\n",
       "      <td>6</td>\n",
       "      <td>2015-06-27 06:00:00</td>\n",
       "      <td>20.782402</td>\n",
       "      <td>17.699262</td>\n",
       "      <td>23.723483</td>\n",
       "      <td>20.782401</td>\n",
       "      <td>20.782402</td>\n",
       "      <td>0.0</td>\n",
       "      <td>0.0</td>\n",
       "      <td>0.0</td>\n",
       "      <td>0.0</td>\n",
       "      <td>0.0</td>\n",
       "      <td>0.0</td>\n",
       "      <td>20.782402</td>\n",
       "    </tr>\n",
       "    <tr>\n",
       "      <td>7</td>\n",
       "      <td>2015-06-27 07:00:00</td>\n",
       "      <td>21.089412</td>\n",
       "      <td>17.956793</td>\n",
       "      <td>24.105977</td>\n",
       "      <td>21.089412</td>\n",
       "      <td>21.089412</td>\n",
       "      <td>0.0</td>\n",
       "      <td>0.0</td>\n",
       "      <td>0.0</td>\n",
       "      <td>0.0</td>\n",
       "      <td>0.0</td>\n",
       "      <td>0.0</td>\n",
       "      <td>21.089412</td>\n",
       "    </tr>\n",
       "    <tr>\n",
       "      <td>8</td>\n",
       "      <td>2015-06-27 08:00:00</td>\n",
       "      <td>21.396422</td>\n",
       "      <td>18.248375</td>\n",
       "      <td>24.399801</td>\n",
       "      <td>21.396422</td>\n",
       "      <td>21.396423</td>\n",
       "      <td>0.0</td>\n",
       "      <td>0.0</td>\n",
       "      <td>0.0</td>\n",
       "      <td>0.0</td>\n",
       "      <td>0.0</td>\n",
       "      <td>0.0</td>\n",
       "      <td>21.396422</td>\n",
       "    </tr>\n",
       "    <tr>\n",
       "      <td>9</td>\n",
       "      <td>2015-06-27 09:00:00</td>\n",
       "      <td>21.703433</td>\n",
       "      <td>18.643331</td>\n",
       "      <td>24.979454</td>\n",
       "      <td>21.703433</td>\n",
       "      <td>21.703433</td>\n",
       "      <td>0.0</td>\n",
       "      <td>0.0</td>\n",
       "      <td>0.0</td>\n",
       "      <td>0.0</td>\n",
       "      <td>0.0</td>\n",
       "      <td>0.0</td>\n",
       "      <td>21.703433</td>\n",
       "    </tr>\n",
       "    <tr>\n",
       "      <td>10</td>\n",
       "      <td>2015-06-27 10:00:00</td>\n",
       "      <td>22.010443</td>\n",
       "      <td>18.789930</td>\n",
       "      <td>24.989017</td>\n",
       "      <td>22.010443</td>\n",
       "      <td>22.010444</td>\n",
       "      <td>0.0</td>\n",
       "      <td>0.0</td>\n",
       "      <td>0.0</td>\n",
       "      <td>0.0</td>\n",
       "      <td>0.0</td>\n",
       "      <td>0.0</td>\n",
       "      <td>22.010443</td>\n",
       "    </tr>\n",
       "    <tr>\n",
       "      <td>11</td>\n",
       "      <td>2015-06-27 11:00:00</td>\n",
       "      <td>22.317454</td>\n",
       "      <td>19.079196</td>\n",
       "      <td>25.523232</td>\n",
       "      <td>22.317454</td>\n",
       "      <td>22.317454</td>\n",
       "      <td>0.0</td>\n",
       "      <td>0.0</td>\n",
       "      <td>0.0</td>\n",
       "      <td>0.0</td>\n",
       "      <td>0.0</td>\n",
       "      <td>0.0</td>\n",
       "      <td>22.317454</td>\n",
       "    </tr>\n",
       "    <tr>\n",
       "      <td>12</td>\n",
       "      <td>2015-06-27 12:00:00</td>\n",
       "      <td>22.624464</td>\n",
       "      <td>19.366951</td>\n",
       "      <td>25.692268</td>\n",
       "      <td>22.624464</td>\n",
       "      <td>22.624465</td>\n",
       "      <td>0.0</td>\n",
       "      <td>0.0</td>\n",
       "      <td>0.0</td>\n",
       "      <td>0.0</td>\n",
       "      <td>0.0</td>\n",
       "      <td>0.0</td>\n",
       "      <td>22.624464</td>\n",
       "    </tr>\n",
       "    <tr>\n",
       "      <td>13</td>\n",
       "      <td>2015-06-27 13:00:00</td>\n",
       "      <td>22.931475</td>\n",
       "      <td>19.824799</td>\n",
       "      <td>26.002447</td>\n",
       "      <td>22.931475</td>\n",
       "      <td>22.931475</td>\n",
       "      <td>0.0</td>\n",
       "      <td>0.0</td>\n",
       "      <td>0.0</td>\n",
       "      <td>0.0</td>\n",
       "      <td>0.0</td>\n",
       "      <td>0.0</td>\n",
       "      <td>22.931475</td>\n",
       "    </tr>\n",
       "    <tr>\n",
       "      <td>14</td>\n",
       "      <td>2015-06-27 14:00:00</td>\n",
       "      <td>23.238485</td>\n",
       "      <td>20.072242</td>\n",
       "      <td>26.372216</td>\n",
       "      <td>23.238485</td>\n",
       "      <td>23.238486</td>\n",
       "      <td>0.0</td>\n",
       "      <td>0.0</td>\n",
       "      <td>0.0</td>\n",
       "      <td>0.0</td>\n",
       "      <td>0.0</td>\n",
       "      <td>0.0</td>\n",
       "      <td>23.238485</td>\n",
       "    </tr>\n",
       "    <tr>\n",
       "      <td>15</td>\n",
       "      <td>2015-06-27 15:00:00</td>\n",
       "      <td>23.545496</td>\n",
       "      <td>20.464628</td>\n",
       "      <td>26.478281</td>\n",
       "      <td>23.545495</td>\n",
       "      <td>23.545496</td>\n",
       "      <td>0.0</td>\n",
       "      <td>0.0</td>\n",
       "      <td>0.0</td>\n",
       "      <td>0.0</td>\n",
       "      <td>0.0</td>\n",
       "      <td>0.0</td>\n",
       "      <td>23.545496</td>\n",
       "    </tr>\n",
       "    <tr>\n",
       "      <td>16</td>\n",
       "      <td>2015-06-27 16:00:00</td>\n",
       "      <td>23.852506</td>\n",
       "      <td>20.688946</td>\n",
       "      <td>27.110397</td>\n",
       "      <td>23.852506</td>\n",
       "      <td>23.852507</td>\n",
       "      <td>0.0</td>\n",
       "      <td>0.0</td>\n",
       "      <td>0.0</td>\n",
       "      <td>0.0</td>\n",
       "      <td>0.0</td>\n",
       "      <td>0.0</td>\n",
       "      <td>23.852506</td>\n",
       "    </tr>\n",
       "    <tr>\n",
       "      <td>17</td>\n",
       "      <td>2015-06-27 17:00:00</td>\n",
       "      <td>24.159517</td>\n",
       "      <td>20.987104</td>\n",
       "      <td>27.322256</td>\n",
       "      <td>24.159516</td>\n",
       "      <td>24.159517</td>\n",
       "      <td>0.0</td>\n",
       "      <td>0.0</td>\n",
       "      <td>0.0</td>\n",
       "      <td>0.0</td>\n",
       "      <td>0.0</td>\n",
       "      <td>0.0</td>\n",
       "      <td>24.159517</td>\n",
       "    </tr>\n",
       "    <tr>\n",
       "      <td>18</td>\n",
       "      <td>2015-06-27 18:00:00</td>\n",
       "      <td>24.466527</td>\n",
       "      <td>21.203243</td>\n",
       "      <td>27.574353</td>\n",
       "      <td>24.466527</td>\n",
       "      <td>24.466528</td>\n",
       "      <td>0.0</td>\n",
       "      <td>0.0</td>\n",
       "      <td>0.0</td>\n",
       "      <td>0.0</td>\n",
       "      <td>0.0</td>\n",
       "      <td>0.0</td>\n",
       "      <td>24.466527</td>\n",
       "    </tr>\n",
       "    <tr>\n",
       "      <td>19</td>\n",
       "      <td>2015-06-27 19:00:00</td>\n",
       "      <td>24.773538</td>\n",
       "      <td>21.772227</td>\n",
       "      <td>28.151146</td>\n",
       "      <td>24.773537</td>\n",
       "      <td>24.773539</td>\n",
       "      <td>0.0</td>\n",
       "      <td>0.0</td>\n",
       "      <td>0.0</td>\n",
       "      <td>0.0</td>\n",
       "      <td>0.0</td>\n",
       "      <td>0.0</td>\n",
       "      <td>24.773538</td>\n",
       "    </tr>\n",
       "    <tr>\n",
       "      <td>20</td>\n",
       "      <td>2015-06-27 20:00:00</td>\n",
       "      <td>25.080548</td>\n",
       "      <td>21.916493</td>\n",
       "      <td>28.161632</td>\n",
       "      <td>25.080548</td>\n",
       "      <td>25.080549</td>\n",
       "      <td>0.0</td>\n",
       "      <td>0.0</td>\n",
       "      <td>0.0</td>\n",
       "      <td>0.0</td>\n",
       "      <td>0.0</td>\n",
       "      <td>0.0</td>\n",
       "      <td>25.080548</td>\n",
       "    </tr>\n",
       "    <tr>\n",
       "      <td>21</td>\n",
       "      <td>2015-06-27 21:00:00</td>\n",
       "      <td>25.387559</td>\n",
       "      <td>22.252186</td>\n",
       "      <td>28.640951</td>\n",
       "      <td>25.387558</td>\n",
       "      <td>25.387560</td>\n",
       "      <td>0.0</td>\n",
       "      <td>0.0</td>\n",
       "      <td>0.0</td>\n",
       "      <td>0.0</td>\n",
       "      <td>0.0</td>\n",
       "      <td>0.0</td>\n",
       "      <td>25.387559</td>\n",
       "    </tr>\n",
       "    <tr>\n",
       "      <td>22</td>\n",
       "      <td>2015-06-27 22:00:00</td>\n",
       "      <td>25.694569</td>\n",
       "      <td>22.593903</td>\n",
       "      <td>28.644104</td>\n",
       "      <td>25.694568</td>\n",
       "      <td>25.694570</td>\n",
       "      <td>0.0</td>\n",
       "      <td>0.0</td>\n",
       "      <td>0.0</td>\n",
       "      <td>0.0</td>\n",
       "      <td>0.0</td>\n",
       "      <td>0.0</td>\n",
       "      <td>25.694569</td>\n",
       "    </tr>\n",
       "    <tr>\n",
       "      <td>23</td>\n",
       "      <td>2015-06-27 23:00:00</td>\n",
       "      <td>26.001580</td>\n",
       "      <td>22.842893</td>\n",
       "      <td>29.041369</td>\n",
       "      <td>26.001579</td>\n",
       "      <td>26.001581</td>\n",
       "      <td>0.0</td>\n",
       "      <td>0.0</td>\n",
       "      <td>0.0</td>\n",
       "      <td>0.0</td>\n",
       "      <td>0.0</td>\n",
       "      <td>0.0</td>\n",
       "      <td>26.001580</td>\n",
       "    </tr>\n",
       "  </tbody>\n",
       "</table>\n",
       "</div>"
      ],
      "text/plain": [
       "                    ds      trend  yhat_lower  yhat_upper  trend_lower  \\\n",
       "0  2015-06-27 00:00:00  18.940339   15.632202   22.037770    18.940339   \n",
       "1  2015-06-27 01:00:00  19.247349   16.300272   22.309742    19.247349   \n",
       "2  2015-06-27 02:00:00  19.554360   16.303437   22.439506    19.554360   \n",
       "3  2015-06-27 03:00:00  19.861370   16.758593   23.081813    19.861370   \n",
       "4  2015-06-27 04:00:00  20.168381   17.410344   23.469005    20.168380   \n",
       "5  2015-06-27 05:00:00  20.475391   17.511930   23.487640    20.475391   \n",
       "6  2015-06-27 06:00:00  20.782402   17.699262   23.723483    20.782401   \n",
       "7  2015-06-27 07:00:00  21.089412   17.956793   24.105977    21.089412   \n",
       "8  2015-06-27 08:00:00  21.396422   18.248375   24.399801    21.396422   \n",
       "9  2015-06-27 09:00:00  21.703433   18.643331   24.979454    21.703433   \n",
       "10 2015-06-27 10:00:00  22.010443   18.789930   24.989017    22.010443   \n",
       "11 2015-06-27 11:00:00  22.317454   19.079196   25.523232    22.317454   \n",
       "12 2015-06-27 12:00:00  22.624464   19.366951   25.692268    22.624464   \n",
       "13 2015-06-27 13:00:00  22.931475   19.824799   26.002447    22.931475   \n",
       "14 2015-06-27 14:00:00  23.238485   20.072242   26.372216    23.238485   \n",
       "15 2015-06-27 15:00:00  23.545496   20.464628   26.478281    23.545495   \n",
       "16 2015-06-27 16:00:00  23.852506   20.688946   27.110397    23.852506   \n",
       "17 2015-06-27 17:00:00  24.159517   20.987104   27.322256    24.159516   \n",
       "18 2015-06-27 18:00:00  24.466527   21.203243   27.574353    24.466527   \n",
       "19 2015-06-27 19:00:00  24.773538   21.772227   28.151146    24.773537   \n",
       "20 2015-06-27 20:00:00  25.080548   21.916493   28.161632    25.080548   \n",
       "21 2015-06-27 21:00:00  25.387559   22.252186   28.640951    25.387558   \n",
       "22 2015-06-27 22:00:00  25.694569   22.593903   28.644104    25.694568   \n",
       "23 2015-06-27 23:00:00  26.001580   22.842893   29.041369    26.001579   \n",
       "\n",
       "    trend_upper  additive_terms  additive_terms_lower  additive_terms_upper  \\\n",
       "0     18.940339             0.0                   0.0                   0.0   \n",
       "1     19.247349             0.0                   0.0                   0.0   \n",
       "2     19.554360             0.0                   0.0                   0.0   \n",
       "3     19.861370             0.0                   0.0                   0.0   \n",
       "4     20.168381             0.0                   0.0                   0.0   \n",
       "5     20.475391             0.0                   0.0                   0.0   \n",
       "6     20.782402             0.0                   0.0                   0.0   \n",
       "7     21.089412             0.0                   0.0                   0.0   \n",
       "8     21.396423             0.0                   0.0                   0.0   \n",
       "9     21.703433             0.0                   0.0                   0.0   \n",
       "10    22.010444             0.0                   0.0                   0.0   \n",
       "11    22.317454             0.0                   0.0                   0.0   \n",
       "12    22.624465             0.0                   0.0                   0.0   \n",
       "13    22.931475             0.0                   0.0                   0.0   \n",
       "14    23.238486             0.0                   0.0                   0.0   \n",
       "15    23.545496             0.0                   0.0                   0.0   \n",
       "16    23.852507             0.0                   0.0                   0.0   \n",
       "17    24.159517             0.0                   0.0                   0.0   \n",
       "18    24.466528             0.0                   0.0                   0.0   \n",
       "19    24.773539             0.0                   0.0                   0.0   \n",
       "20    25.080549             0.0                   0.0                   0.0   \n",
       "21    25.387560             0.0                   0.0                   0.0   \n",
       "22    25.694570             0.0                   0.0                   0.0   \n",
       "23    26.001581             0.0                   0.0                   0.0   \n",
       "\n",
       "    multiplicative_terms  multiplicative_terms_lower  \\\n",
       "0                    0.0                         0.0   \n",
       "1                    0.0                         0.0   \n",
       "2                    0.0                         0.0   \n",
       "3                    0.0                         0.0   \n",
       "4                    0.0                         0.0   \n",
       "5                    0.0                         0.0   \n",
       "6                    0.0                         0.0   \n",
       "7                    0.0                         0.0   \n",
       "8                    0.0                         0.0   \n",
       "9                    0.0                         0.0   \n",
       "10                   0.0                         0.0   \n",
       "11                   0.0                         0.0   \n",
       "12                   0.0                         0.0   \n",
       "13                   0.0                         0.0   \n",
       "14                   0.0                         0.0   \n",
       "15                   0.0                         0.0   \n",
       "16                   0.0                         0.0   \n",
       "17                   0.0                         0.0   \n",
       "18                   0.0                         0.0   \n",
       "19                   0.0                         0.0   \n",
       "20                   0.0                         0.0   \n",
       "21                   0.0                         0.0   \n",
       "22                   0.0                         0.0   \n",
       "23                   0.0                         0.0   \n",
       "\n",
       "    multiplicative_terms_upper       yhat  \n",
       "0                          0.0  18.940339  \n",
       "1                          0.0  19.247349  \n",
       "2                          0.0  19.554360  \n",
       "3                          0.0  19.861370  \n",
       "4                          0.0  20.168381  \n",
       "5                          0.0  20.475391  \n",
       "6                          0.0  20.782402  \n",
       "7                          0.0  21.089412  \n",
       "8                          0.0  21.396422  \n",
       "9                          0.0  21.703433  \n",
       "10                         0.0  22.010443  \n",
       "11                         0.0  22.317454  \n",
       "12                         0.0  22.624464  \n",
       "13                         0.0  22.931475  \n",
       "14                         0.0  23.238485  \n",
       "15                         0.0  23.545496  \n",
       "16                         0.0  23.852506  \n",
       "17                         0.0  24.159517  \n",
       "18                         0.0  24.466527  \n",
       "19                         0.0  24.773538  \n",
       "20                         0.0  25.080548  \n",
       "21                         0.0  25.387559  \n",
       "22                         0.0  25.694569  \n",
       "23                         0.0  26.001580  "
      ]
     },
     "execution_count": 75,
     "metadata": {},
     "output_type": "execute_result"
    }
   ],
   "source": [
    "p"
   ]
  },
  {
   "cell_type": "code",
   "execution_count": 29,
   "metadata": {},
   "outputs": [
    {
     "data": {
      "text/plain": [
       "0.6829592574113298"
      ]
     },
     "execution_count": 29,
     "metadata": {},
     "output_type": "execute_result"
    }
   ],
   "source": [
    "mape(test['y'], p['yhat'])"
   ]
  },
  {
   "cell_type": "code",
   "execution_count": 30,
   "metadata": {},
   "outputs": [
    {
     "data": {
      "text/plain": [
       "<matplotlib.axes._subplots.AxesSubplot at 0x7fa3c186bd68>"
      ]
     },
     "execution_count": 30,
     "metadata": {},
     "output_type": "execute_result"
    },
    {
     "data": {
      "image/png": "[encoded data removed]",
      "text/plain": [
       "<Figure size 432x288 with 1 Axes>"
      ]
     },
     "metadata": {
      "needs_background": "light"
     },
     "output_type": "display_data"
    }
   ],
   "source": [
    "p['yhat'].plot()"
   ]
  },
  {
   "cell_type": "code",
   "execution_count": 86,
   "metadata": {},
   "outputs": [
    {
     "data": {
      "text/plain": [
       "DatetimeIndex(['2015-06-25 00:00:00', '2015-06-25 00:03:00',\n",
       "               '2015-06-25 00:06:00', '2015-06-25 00:09:00',\n",
       "               '2015-06-25 00:12:00', '2015-06-25 00:15:00',\n",
       "               '2015-06-25 00:18:00', '2015-06-25 00:21:00',\n",
       "               '2015-06-25 00:24:00', '2015-06-25 00:27:00',\n",
       "               ...\n",
       "               '2015-06-26 23:30:00', '2015-06-26 23:33:00',\n",
       "               '2015-06-26 23:36:00', '2015-06-26 23:39:00',\n",
       "               '2015-06-26 23:42:00', '2015-06-26 23:45:00',\n",
       "               '2015-06-26 23:48:00', '2015-06-26 23:51:00',\n",
       "               '2015-06-26 23:54:00', '2015-06-26 23:57:00'],\n",
       "              dtype='datetime64[ns]', length=960, freq='3T')"
      ]
     },
     "execution_count": 86,
     "metadata": {},
     "output_type": "execute_result"
    }
   ],
   "source": [
    "pd.date_range('2015-06-25', '2015-06-26 23:59:00', freq='3Min')"
   ]
  },
  {
   "cell_type": "code",
   "execution_count": 100,
   "metadata": {},
   "outputs": [],
   "source": [
    "train = tmax[tmax['ds'].isin(pd.date_range('2015-06-25', '2015-06-26 23:59:00', freq='H'))]"
   ]
  },
  {
   "cell_type": "code",
   "execution_count": 99,
   "metadata": {},
   "outputs": [],
   "source": [
    "def run_prophet(train, test):\n",
    "    prophet = Prophet()\n",
    "    prophet.fit(train)\n",
    "    \n",
    "    future = prophet.make_future_dataframe(24, include_history=False, freq='H')\n",
    "    fcst = prophet.predict(future)\n",
    "    \n",
    "    \n",
    "    return prophet, fcst, mape(test['y'], fcst['yhat'])"
   ]
  },
  {
   "cell_type": "code",
   "execution_count": 101,
   "metadata": {},
   "outputs": [
    {
     "name": "stderr",
     "output_type": "stream",
     "text": [
      "INFO:fbprophet:Disabling yearly seasonality. Run prophet with yearly_seasonality=True to override this.\n",
      "INFO:fbprophet:Disabling weekly seasonality. Run prophet with weekly_seasonality=True to override this.\n",
      "INFO:fbprophet:Disabling daily seasonality. Run prophet with daily_seasonality=True to override this.\n"
     ]
    },
    {
     "data": {
      "text/plain": [
       "0.3808477517222503"
      ]
     },
     "execution_count": 101,
     "metadata": {},
     "output_type": "execute_result"
    }
   ],
   "source": [
    "r = run_prophet(train, test)\n",
    "r[-1]"
   ]
  },
  {
   "cell_type": "code",
   "execution_count": 104,
   "metadata": {},
   "outputs": [
    {
     "name": "stderr",
     "output_type": "stream",
     "text": [
      "INFO:fbprophet:Disabling yearly seasonality. Run prophet with yearly_seasonality=True to override this.\n",
      "INFO:fbprophet:Disabling weekly seasonality. Run prophet with weekly_seasonality=True to override this.\n"
     ]
    }
   ],
   "source": [
    "train = tmax[tmax['ds'].isin(pd.date_range('2015-06-20', '2015-06-26 23:59:00', freq='H'))]\n",
    "r = run_prophet(train, test)"
   ]
  },
  {
   "cell_type": "code",
   "execution_count": 105,
   "metadata": {},
   "outputs": [
    {
     "data": {
      "text/plain": [
       "0.06330445488917649"
      ]
     },
     "execution_count": 105,
     "metadata": {},
     "output_type": "execute_result"
    }
   ],
   "source": [
    "r[-1]"
   ]
  },
  {
   "cell_type": "code",
   "execution_count": 106,
   "metadata": {},
   "outputs": [
    {
     "name": "stderr",
     "output_type": "stream",
     "text": [
      "INFO:fbprophet:Disabling yearly seasonality. Run prophet with yearly_seasonality=True to override this.\n"
     ]
    },
    {
     "data": {
      "text/plain": [
       "0.09404764792285474"
      ]
     },
     "execution_count": 106,
     "metadata": {},
     "output_type": "execute_result"
    }
   ],
   "source": [
    "train = tmax[tmax['ds'].isin(pd.date_range('2015-05-26', '2015-06-26 23:59:00', freq='H'))]\n",
    "r = run_prophet(train, test)\n",
    "r[-1]"
   ]
  },
  {
   "cell_type": "code",
   "execution_count": 107,
   "metadata": {},
   "outputs": [
    {
     "name": "stderr",
     "output_type": "stream",
     "text": [
      "INFO:fbprophet:Disabling yearly seasonality. Run prophet with yearly_seasonality=True to override this.\n"
     ]
    },
    {
     "data": {
      "text/plain": [
       "0.06994693265502674"
      ]
     },
     "execution_count": 107,
     "metadata": {},
     "output_type": "execute_result"
    }
   ],
   "source": [
    "train = tmax[tmax['ds'].isin(pd.date_range('2015-04-26', '2015-06-26 23:59:00', freq='H'))]\n",
    "r = run_prophet(train, test)\n",
    "r[-1]"
   ]
  },
  {
   "cell_type": "code",
   "execution_count": 108,
   "metadata": {},
   "outputs": [
    {
     "name": "stderr",
     "output_type": "stream",
     "text": [
      "INFO:fbprophet:Disabling yearly seasonality. Run prophet with yearly_seasonality=True to override this.\n"
     ]
    },
    {
     "data": {
      "text/plain": [
       "0.21537841577670516"
      ]
     },
     "execution_count": 108,
     "metadata": {},
     "output_type": "execute_result"
    }
   ],
   "source": [
    "train = tmax[tmax['ds'].isin(pd.date_range('2015-03-26', '2015-06-26 23:59:00', freq='H'))]\n",
    "r = run_prophet(train, test)\n",
    "r[-1]"
   ]
  },
  {
   "cell_type": "code",
   "execution_count": 109,
   "metadata": {},
   "outputs": [
    {
     "name": "stderr",
     "output_type": "stream",
     "text": [
      "INFO:fbprophet:Disabling yearly seasonality. Run prophet with yearly_seasonality=True to override this.\n"
     ]
    }
   ],
   "source": [
    "#não tem inverno?\n",
    "train = tmax[tmax['ds'].isin(pd.date_range('2015-01-01', '2015-06-26 23:59:00', freq='H'))]\n",
    "r = run_prophet(train, test)"
   ]
  },
  {
   "cell_type": "code",
   "execution_count": 110,
   "metadata": {},
   "outputs": [
    {
     "data": {
      "text/plain": [
       "0.3008955288205095"
      ]
     },
     "execution_count": 110,
     "metadata": {},
     "output_type": "execute_result"
    }
   ],
   "source": [
    "r[-1]"
   ]
  },
  {
   "cell_type": "code",
   "execution_count": 39,
   "metadata": {},
   "outputs": [
    {
     "name": "stderr",
     "output_type": "stream",
     "text": [
      "INFO:fbprophet:Disabling yearly seasonality. Run prophet with yearly_seasonality=True to override this.\n"
     ]
    }
   ],
   "source": [
    "train = tmax[tmax['ds'].isin(pd.date_range('2014-01-01', '2015-06-26 23:59:00', freq='H'))]\n",
    "r = run_prophet(train, test)"
   ]
  },
  {
   "cell_type": "markdown",
   "metadata": {},
   "source": [
    "# selecionado"
   ]
  },
  {
   "cell_type": "code",
   "execution_count": 40,
   "metadata": {},
   "outputs": [
    {
     "name": "stderr",
     "output_type": "stream",
     "text": [
      "INFO:fbprophet:Disabling yearly seasonality. Run prophet with yearly_seasonality=True to override this.\n",
      "INFO:fbprophet:Disabling weekly seasonality. Run prophet with weekly_seasonality=True to override this.\n"
     ]
    }
   ],
   "source": [
    "train = tmax[tmax['ds'].isin(pd.date_range('2015-06-19', '2015-06-26 23:59:00', freq='H'))]\n",
    "prophet_7d, fcst, erro = run_prophet(train, test)"
   ]
  },
  {
   "cell_type": "code",
   "execution_count": 41,
   "metadata": {},
   "outputs": [
    {
     "data": {
      "text/plain": [
       "2029488    14.2\n",
       "2029489    13.7\n",
       "2029490    12.1\n",
       "2029491    11.1\n",
       "2029492    10.4\n",
       "2029493     9.5\n",
       "2029494     9.5\n",
       "2029495    10.1\n",
       "2029496    10.1\n",
       "2029497    10.0\n",
       "2029498     9.4\n",
       "2029499    11.5\n",
       "2029500    13.1\n",
       "2029501    15.6\n",
       "2029502    16.3\n",
       "2029503    17.4\n",
       "2029504    18.7\n",
       "2029505    19.7\n",
       "2029506    19.8\n",
       "2029507    19.5\n",
       "2029508    19.4\n",
       "2029509    16.7\n",
       "2029510    15.2\n",
       "2029511    14.3\n",
       "Name: y, dtype: float64"
      ]
     },
     "execution_count": 41,
     "metadata": {},
     "output_type": "execute_result"
    }
   ],
   "source": [
    "test['y']"
   ]
  },
  {
   "cell_type": "code",
   "execution_count": 42,
   "metadata": {},
   "outputs": [
    {
     "data": {
      "text/plain": [
       "2029488   2015-06-27 00:00:00\n",
       "2029489   2015-06-27 01:00:00\n",
       "2029490   2015-06-27 02:00:00\n",
       "2029491   2015-06-27 03:00:00\n",
       "2029492   2015-06-27 04:00:00\n",
       "2029493   2015-06-27 05:00:00\n",
       "2029494   2015-06-27 06:00:00\n",
       "2029495   2015-06-27 07:00:00\n",
       "2029496   2015-06-27 08:00:00\n",
       "2029497   2015-06-27 09:00:00\n",
       "2029498   2015-06-27 10:00:00\n",
       "2029499   2015-06-27 11:00:00\n",
       "2029500   2015-06-27 12:00:00\n",
       "2029501   2015-06-27 13:00:00\n",
       "2029502   2015-06-27 14:00:00\n",
       "2029503   2015-06-27 15:00:00\n",
       "2029504   2015-06-27 16:00:00\n",
       "2029505   2015-06-27 17:00:00\n",
       "2029506   2015-06-27 18:00:00\n",
       "2029507   2015-06-27 19:00:00\n",
       "2029508   2015-06-27 20:00:00\n",
       "2029509   2015-06-27 21:00:00\n",
       "2029510   2015-06-27 22:00:00\n",
       "2029511   2015-06-27 23:00:00\n",
       "Name: ds, dtype: datetime64[ns]"
      ]
     },
     "execution_count": 42,
     "metadata": {},
     "output_type": "execute_result"
    }
   ],
   "source": [
    "test['ds']"
   ]
  },
  {
   "cell_type": "code",
   "execution_count": 43,
   "metadata": {},
   "outputs": [
    {
     "data": {
      "text/plain": [
       "<matplotlib.axes._subplots.AxesSubplot at 0x7fa3c187d240>"
      ]
     },
     "execution_count": 43,
     "metadata": {},
     "output_type": "execute_result"
    },
    {
     "data": {
      "image/png": "[encoded data removed]",
      "text/plain": [
       "<Figure size 1080x504 with 1 Axes>"
      ]
     },
     "metadata": {
      "needs_background": "light"
     },
     "output_type": "display_data"
    }
   ],
   "source": [
    "test['y'].plot(figsize=(15,7))"
   ]
  },
  {
   "cell_type": "code",
   "execution_count": 44,
   "metadata": {},
   "outputs": [
    {
     "data": {
      "image/png": "[encoded data removed]",
      "text/plain": [
       "<Figure size 648x432 with 2 Axes>"
      ]
     },
     "execution_count": 44,
     "metadata": {},
     "output_type": "execute_result"
    },
    {
     "data": {
      "image/png": "[encoded data removed]",
      "text/plain": [
       "<Figure size 648x432 with 2 Axes>"
      ]
     },
     "metadata": {},
     "output_type": "display_data"
    }
   ],
   "source": [
    "prophet_7d.plot_components(fcst)"
   ]
  },
  {
   "cell_type": "markdown",
   "metadata": {},
   "source": [
    "# CV"
   ]
  },
  {
   "cell_type": "code",
   "execution_count": 114,
   "metadata": {},
   "outputs": [],
   "source": [
    "train = tmax[tmax['ds'].isin(pd.date_range('2014-01-01', '2014-12-31 23:59:00', freq='H'))]"
   ]
  },
  {
   "cell_type": "code",
   "execution_count": 46,
   "metadata": {},
   "outputs": [
    {
     "name": "stderr",
     "output_type": "stream",
     "text": [
      "INFO:fbprophet:Disabling yearly seasonality. Run prophet with yearly_seasonality=True to override this.\n"
     ]
    }
   ],
   "source": [
    "prophet_2014, fcst, erro = run_prophet(train, test)"
   ]
  },
  {
   "cell_type": "code",
   "execution_count": 47,
   "metadata": {},
   "outputs": [
    {
     "name": "stderr",
     "output_type": "stream",
     "text": [
      "INFO:fbprophet:Making 48 forecasts with cutoffs between 2014-01-29 23:00:00 and 2014-12-24 23:00:00\n"
     ]
    },
    {
     "data": {
      "text/html": [
       "<div>\n",
       "<style scoped>\n",
       "    .dataframe tbody tr th:only-of-type {\n",
       "        vertical-align: middle;\n",
       "    }\n",
       "\n",
       "    .dataframe tbody tr th {\n",
       "        vertical-align: top;\n",
       "    }\n",
       "\n",
       "    .dataframe thead th {\n",
       "        text-align: right;\n",
       "    }\n",
       "</style>\n",
       "<table border=\"1\" class=\"dataframe\">\n",
       "  <thead>\n",
       "    <tr style=\"text-align: right;\">\n",
       "      <th></th>\n",
       "      <th>ds</th>\n",
       "      <th>yhat</th>\n",
       "      <th>yhat_lower</th>\n",
       "      <th>yhat_upper</th>\n",
       "      <th>y</th>\n",
       "      <th>cutoff</th>\n",
       "    </tr>\n",
       "  </thead>\n",
       "  <tbody>\n",
       "    <tr>\n",
       "      <td>0</td>\n",
       "      <td>2014-01-30 00:00:00</td>\n",
       "      <td>24.259789</td>\n",
       "      <td>22.381892</td>\n",
       "      <td>25.925143</td>\n",
       "      <td>23.2</td>\n",
       "      <td>2014-01-29 23:00:00</td>\n",
       "    </tr>\n",
       "    <tr>\n",
       "      <td>1</td>\n",
       "      <td>2014-01-30 01:00:00</td>\n",
       "      <td>23.390130</td>\n",
       "      <td>21.662288</td>\n",
       "      <td>25.054126</td>\n",
       "      <td>22.8</td>\n",
       "      <td>2014-01-29 23:00:00</td>\n",
       "    </tr>\n",
       "    <tr>\n",
       "      <td>2</td>\n",
       "      <td>2014-01-30 02:00:00</td>\n",
       "      <td>22.948938</td>\n",
       "      <td>21.255710</td>\n",
       "      <td>24.772211</td>\n",
       "      <td>23.5</td>\n",
       "      <td>2014-01-29 23:00:00</td>\n",
       "    </tr>\n",
       "    <tr>\n",
       "      <td>3</td>\n",
       "      <td>2014-01-30 03:00:00</td>\n",
       "      <td>22.652982</td>\n",
       "      <td>20.912537</td>\n",
       "      <td>24.504505</td>\n",
       "      <td>22.4</td>\n",
       "      <td>2014-01-29 23:00:00</td>\n",
       "    </tr>\n",
       "    <tr>\n",
       "      <td>4</td>\n",
       "      <td>2014-01-30 04:00:00</td>\n",
       "      <td>22.229113</td>\n",
       "      <td>20.430079</td>\n",
       "      <td>23.942749</td>\n",
       "      <td>22.3</td>\n",
       "      <td>2014-01-29 23:00:00</td>\n",
       "    </tr>\n",
       "  </tbody>\n",
       "</table>\n",
       "</div>"
      ],
      "text/plain": [
       "                   ds       yhat  yhat_lower  yhat_upper     y  \\\n",
       "0 2014-01-30 00:00:00  24.259789   22.381892   25.925143  23.2   \n",
       "1 2014-01-30 01:00:00  23.390130   21.662288   25.054126  22.8   \n",
       "2 2014-01-30 02:00:00  22.948938   21.255710   24.772211  23.5   \n",
       "3 2014-01-30 03:00:00  22.652982   20.912537   24.504505  22.4   \n",
       "4 2014-01-30 04:00:00  22.229113   20.430079   23.942749  22.3   \n",
       "\n",
       "               cutoff  \n",
       "0 2014-01-29 23:00:00  \n",
       "1 2014-01-29 23:00:00  \n",
       "2 2014-01-29 23:00:00  \n",
       "3 2014-01-29 23:00:00  \n",
       "4 2014-01-29 23:00:00  "
      ]
     },
     "execution_count": 47,
     "metadata": {},
     "output_type": "execute_result"
    }
   ],
   "source": [
    "from fbprophet.diagnostics import cross_validation\n",
    "df_cv = cross_validation(prophet_2014, initial='28 days', period='7 days', horizon = '7 days')\n",
    "df_cv.head()"
   ]
  },
  {
   "cell_type": "code",
   "execution_count": 48,
   "metadata": {},
   "outputs": [
    {
     "data": {
      "text/plain": [
       "0       3\n",
       "1       3\n",
       "2       3\n",
       "3       3\n",
       "4       3\n",
       "       ..\n",
       "8059    2\n",
       "8060    2\n",
       "8061    2\n",
       "8062    2\n",
       "8063    2\n",
       "Name: ds, Length: 8064, dtype: int64"
      ]
     },
     "execution_count": 48,
     "metadata": {},
     "output_type": "execute_result"
    }
   ],
   "source": [
    "(df_cv['ds'] - pd.Timedelta(7,'D')).dt.weekday"
   ]
  },
  {
   "cell_type": "code",
   "execution_count": 49,
   "metadata": {},
   "outputs": [],
   "source": [
    "from fbprophet.diagnostics import performance_metrics"
   ]
  },
  {
   "cell_type": "code",
   "execution_count": 50,
   "metadata": {},
   "outputs": [
    {
     "name": "stderr",
     "output_type": "stream",
     "text": [
      "INFO:fbprophet:Skipping MAPE because y close to 0\n"
     ]
    },
    {
     "data": {
      "text/html": [
       "<div>\n",
       "<style scoped>\n",
       "    .dataframe tbody tr th:only-of-type {\n",
       "        vertical-align: middle;\n",
       "    }\n",
       "\n",
       "    .dataframe tbody tr th {\n",
       "        vertical-align: top;\n",
       "    }\n",
       "\n",
       "    .dataframe thead th {\n",
       "        text-align: right;\n",
       "    }\n",
       "</style>\n",
       "<table border=\"1\" class=\"dataframe\">\n",
       "  <thead>\n",
       "    <tr style=\"text-align: right;\">\n",
       "      <th></th>\n",
       "      <th>horizon</th>\n",
       "      <th>mse</th>\n",
       "      <th>rmse</th>\n",
       "      <th>mae</th>\n",
       "      <th>coverage</th>\n",
       "    </tr>\n",
       "  </thead>\n",
       "  <tbody>\n",
       "    <tr>\n",
       "      <td>0</td>\n",
       "      <td>0 days 17:00:00</td>\n",
       "      <td>6.795177</td>\n",
       "      <td>2.606756</td>\n",
       "      <td>1.643695</td>\n",
       "      <td>0.789185</td>\n",
       "    </tr>\n",
       "    <tr>\n",
       "      <td>1</td>\n",
       "      <td>0 days 18:00:00</td>\n",
       "      <td>7.040374</td>\n",
       "      <td>2.653370</td>\n",
       "      <td>1.688952</td>\n",
       "      <td>0.777502</td>\n",
       "    </tr>\n",
       "    <tr>\n",
       "      <td>2</td>\n",
       "      <td>0 days 19:00:00</td>\n",
       "      <td>7.238305</td>\n",
       "      <td>2.690410</td>\n",
       "      <td>1.732685</td>\n",
       "      <td>0.767835</td>\n",
       "    </tr>\n",
       "    <tr>\n",
       "      <td>3</td>\n",
       "      <td>0 days 20:00:00</td>\n",
       "      <td>7.457309</td>\n",
       "      <td>2.730807</td>\n",
       "      <td>1.777391</td>\n",
       "      <td>0.757703</td>\n",
       "    </tr>\n",
       "    <tr>\n",
       "      <td>4</td>\n",
       "      <td>0 days 21:00:00</td>\n",
       "      <td>7.788036</td>\n",
       "      <td>2.790705</td>\n",
       "      <td>1.828569</td>\n",
       "      <td>0.753464</td>\n",
       "    </tr>\n",
       "    <tr>\n",
       "      <td>...</td>\n",
       "      <td>...</td>\n",
       "      <td>...</td>\n",
       "      <td>...</td>\n",
       "      <td>...</td>\n",
       "      <td>...</td>\n",
       "    </tr>\n",
       "    <tr>\n",
       "      <td>147</td>\n",
       "      <td>6 days 20:00:00</td>\n",
       "      <td>9.038705</td>\n",
       "      <td>3.006444</td>\n",
       "      <td>2.316212</td>\n",
       "      <td>0.623294</td>\n",
       "    </tr>\n",
       "    <tr>\n",
       "      <td>148</td>\n",
       "      <td>6 days 21:00:00</td>\n",
       "      <td>9.149415</td>\n",
       "      <td>3.024800</td>\n",
       "      <td>2.330309</td>\n",
       "      <td>0.623036</td>\n",
       "    </tr>\n",
       "    <tr>\n",
       "      <td>149</td>\n",
       "      <td>6 days 22:00:00</td>\n",
       "      <td>9.280644</td>\n",
       "      <td>3.046415</td>\n",
       "      <td>2.346720</td>\n",
       "      <td>0.622984</td>\n",
       "    </tr>\n",
       "    <tr>\n",
       "      <td>150</td>\n",
       "      <td>6 days 23:00:00</td>\n",
       "      <td>9.272619</td>\n",
       "      <td>3.045098</td>\n",
       "      <td>2.343734</td>\n",
       "      <td>0.619779</td>\n",
       "    </tr>\n",
       "    <tr>\n",
       "      <td>151</td>\n",
       "      <td>7 days 00:00:00</td>\n",
       "      <td>9.298293</td>\n",
       "      <td>3.049310</td>\n",
       "      <td>2.352823</td>\n",
       "      <td>0.622260</td>\n",
       "    </tr>\n",
       "  </tbody>\n",
       "</table>\n",
       "<p>152 rows × 5 columns</p>\n",
       "</div>"
      ],
      "text/plain": [
       "            horizon       mse      rmse       mae  coverage\n",
       "0   0 days 17:00:00  6.795177  2.606756  1.643695  0.789185\n",
       "1   0 days 18:00:00  7.040374  2.653370  1.688952  0.777502\n",
       "2   0 days 19:00:00  7.238305  2.690410  1.732685  0.767835\n",
       "3   0 days 20:00:00  7.457309  2.730807  1.777391  0.757703\n",
       "4   0 days 21:00:00  7.788036  2.790705  1.828569  0.753464\n",
       "..              ...       ...       ...       ...       ...\n",
       "147 6 days 20:00:00  9.038705  3.006444  2.316212  0.623294\n",
       "148 6 days 21:00:00  9.149415  3.024800  2.330309  0.623036\n",
       "149 6 days 22:00:00  9.280644  3.046415  2.346720  0.622984\n",
       "150 6 days 23:00:00  9.272619  3.045098  2.343734  0.619779\n",
       "151 7 days 00:00:00  9.298293  3.049310  2.352823  0.622260\n",
       "\n",
       "[152 rows x 5 columns]"
      ]
     },
     "execution_count": 50,
     "metadata": {},
     "output_type": "execute_result"
    }
   ],
   "source": [
    "performance_metrics(df_cv)"
   ]
  },
  {
   "cell_type": "code",
   "execution_count": 61,
   "metadata": {},
   "outputs": [
    {
     "data": {
      "text/html": [
       "<div>\n",
       "<style scoped>\n",
       "    .dataframe tbody tr th:only-of-type {\n",
       "        vertical-align: middle;\n",
       "    }\n",
       "\n",
       "    .dataframe tbody tr th {\n",
       "        vertical-align: top;\n",
       "    }\n",
       "\n",
       "    .dataframe thead th {\n",
       "        text-align: right;\n",
       "    }\n",
       "</style>\n",
       "<table border=\"1\" class=\"dataframe\">\n",
       "  <thead>\n",
       "    <tr style=\"text-align: right;\">\n",
       "      <th></th>\n",
       "      <th>horizon</th>\n",
       "      <th>mse</th>\n",
       "      <th>rmse</th>\n",
       "      <th>mae</th>\n",
       "      <th>mape</th>\n",
       "      <th>coverage</th>\n",
       "    </tr>\n",
       "  </thead>\n",
       "  <tbody>\n",
       "    <tr>\n",
       "      <td>0</td>\n",
       "      <td>0 days 17:00:00</td>\n",
       "      <td>3.868295</td>\n",
       "      <td>1.966798</td>\n",
       "      <td>1.530741</td>\n",
       "      <td>0.082674</td>\n",
       "      <td>0.793114</td>\n",
       "    </tr>\n",
       "    <tr>\n",
       "      <td>1</td>\n",
       "      <td>0 days 18:00:00</td>\n",
       "      <td>4.113827</td>\n",
       "      <td>2.028257</td>\n",
       "      <td>1.575611</td>\n",
       "      <td>0.083685</td>\n",
       "      <td>0.781638</td>\n",
       "    </tr>\n",
       "    <tr>\n",
       "      <td>2</td>\n",
       "      <td>0 days 19:00:00</td>\n",
       "      <td>4.311558</td>\n",
       "      <td>2.076429</td>\n",
       "      <td>1.619335</td>\n",
       "      <td>0.084448</td>\n",
       "      <td>0.771867</td>\n",
       "    </tr>\n",
       "    <tr>\n",
       "      <td>3</td>\n",
       "      <td>0 days 20:00:00</td>\n",
       "      <td>4.529331</td>\n",
       "      <td>2.128222</td>\n",
       "      <td>1.663922</td>\n",
       "      <td>0.085038</td>\n",
       "      <td>0.761321</td>\n",
       "    </tr>\n",
       "    <tr>\n",
       "      <td>4</td>\n",
       "      <td>0 days 21:00:00</td>\n",
       "      <td>4.858236</td>\n",
       "      <td>2.204141</td>\n",
       "      <td>1.714668</td>\n",
       "      <td>0.085967</td>\n",
       "      <td>0.757289</td>\n",
       "    </tr>\n",
       "    <tr>\n",
       "      <td>...</td>\n",
       "      <td>...</td>\n",
       "      <td>...</td>\n",
       "      <td>...</td>\n",
       "      <td>...</td>\n",
       "      <td>...</td>\n",
       "      <td>...</td>\n",
       "    </tr>\n",
       "    <tr>\n",
       "      <td>147</td>\n",
       "      <td>6 days 20:00:00</td>\n",
       "      <td>9.038705</td>\n",
       "      <td>3.006444</td>\n",
       "      <td>2.316212</td>\n",
       "      <td>0.117673</td>\n",
       "      <td>0.623294</td>\n",
       "    </tr>\n",
       "    <tr>\n",
       "      <td>148</td>\n",
       "      <td>6 days 21:00:00</td>\n",
       "      <td>9.149415</td>\n",
       "      <td>3.024800</td>\n",
       "      <td>2.330309</td>\n",
       "      <td>0.116024</td>\n",
       "      <td>0.623036</td>\n",
       "    </tr>\n",
       "    <tr>\n",
       "      <td>149</td>\n",
       "      <td>6 days 22:00:00</td>\n",
       "      <td>9.280644</td>\n",
       "      <td>3.046415</td>\n",
       "      <td>2.346720</td>\n",
       "      <td>0.114470</td>\n",
       "      <td>0.622984</td>\n",
       "    </tr>\n",
       "    <tr>\n",
       "      <td>150</td>\n",
       "      <td>6 days 23:00:00</td>\n",
       "      <td>9.272619</td>\n",
       "      <td>3.045098</td>\n",
       "      <td>2.343734</td>\n",
       "      <td>0.112328</td>\n",
       "      <td>0.619779</td>\n",
       "    </tr>\n",
       "    <tr>\n",
       "      <td>151</td>\n",
       "      <td>7 days 00:00:00</td>\n",
       "      <td>9.298293</td>\n",
       "      <td>3.049310</td>\n",
       "      <td>2.352823</td>\n",
       "      <td>0.110772</td>\n",
       "      <td>0.622260</td>\n",
       "    </tr>\n",
       "  </tbody>\n",
       "</table>\n",
       "<p>152 rows × 6 columns</p>\n",
       "</div>"
      ],
      "text/plain": [
       "            horizon       mse      rmse       mae      mape  coverage\n",
       "0   0 days 17:00:00  3.868295  1.966798  1.530741  0.082674  0.793114\n",
       "1   0 days 18:00:00  4.113827  2.028257  1.575611  0.083685  0.781638\n",
       "2   0 days 19:00:00  4.311558  2.076429  1.619335  0.084448  0.771867\n",
       "3   0 days 20:00:00  4.529331  2.128222  1.663922  0.085038  0.761321\n",
       "4   0 days 21:00:00  4.858236  2.204141  1.714668  0.085967  0.757289\n",
       "..              ...       ...       ...       ...       ...       ...\n",
       "147 6 days 20:00:00  9.038705  3.006444  2.316212  0.117673  0.623294\n",
       "148 6 days 21:00:00  9.149415  3.024800  2.330309  0.116024  0.623036\n",
       "149 6 days 22:00:00  9.280644  3.046415  2.346720  0.114470  0.622984\n",
       "150 6 days 23:00:00  9.272619  3.045098  2.343734  0.112328  0.619779\n",
       "151 7 days 00:00:00  9.298293  3.049310  2.352823  0.110772  0.622260\n",
       "\n",
       "[152 rows x 6 columns]"
      ]
     },
     "execution_count": 61,
     "metadata": {},
     "output_type": "execute_result"
    }
   ],
   "source": [
    "df_cv_nonzero = df_cv[df_cv['y'] != 0]\n",
    "perf = performance_metrics(df_cv_nonzero)\n",
    "perf.sort_values(\"horizon\")"
   ]
  },
  {
   "cell_type": "code",
   "execution_count": 52,
   "metadata": {},
   "outputs": [],
   "source": [
    "from fbprophet.plot import plot_cross_validation_metric"
   ]
  },
  {
   "cell_type": "code",
   "execution_count": 53,
   "metadata": {},
   "outputs": [
    {
     "data": {
      "image/png": "[encoded data removed]",
      "text/plain": [
       "<Figure size 720x432 with 1 Axes>"
      ]
     },
     "execution_count": 53,
     "metadata": {},
     "output_type": "execute_result"
    },
    {
     "data": {
      "image/png": "[encoded data removed]",
      "text/plain": [
       "<Figure size 720x432 with 1 Axes>"
      ]
     },
     "metadata": {},
     "output_type": "display_data"
    }
   ],
   "source": [
    "plot_cross_validation_metric(df_cv_nonzero, 'mape')"
   ]
  },
  {
   "cell_type": "code",
   "execution_count": 115,
   "metadata": {},
   "outputs": [
    {
     "name": "stderr",
     "output_type": "stream",
     "text": [
      "/Users/mario/miniconda3/lib/python3.7/site-packages/ipykernel_launcher.py:4: SettingWithCopyWarning:\n",
      "\n",
      "\n",
      "A value is trying to be set on a copy of a slice from a DataFrame.\n",
      "Try using .loc[row_indexer,col_indexer] = value instead\n",
      "\n",
      "See the caveats in the documentation: http://pandas.pydata.org/pandas-docs/stable/user_guide/indexing.html#returning-a-view-versus-a-copy\n",
      "\n"
     ]
    }
   ],
   "source": [
    "baseline_yhat = []\n",
    "for date in (df_cv_nonzero['ds'] - pd.Timedelta(7,'D')):\n",
    "    baseline_yhat.append(train[train['ds'] == date]['y'].values[0])\n",
    "df_cv_nonzero['baseline'] = baseline_yhat"
   ]
  },
  {
   "cell_type": "code",
   "execution_count": 55,
   "metadata": {},
   "outputs": [
    {
     "data": {
      "text/plain": [
       "0.13751060877598836"
      ]
     },
     "execution_count": 55,
     "metadata": {},
     "output_type": "execute_result"
    }
   ],
   "source": [
    "mape(df_cv_nonzero['y'], df_cv_nonzero['baseline'])"
   ]
  },
  {
   "cell_type": "code",
   "execution_count": 111,
   "metadata": {},
   "outputs": [
    {
     "data": {
      "text/plain": [
       "0.11761402225673434"
      ]
     },
     "execution_count": 111,
     "metadata": {},
     "output_type": "execute_result"
    }
   ],
   "source": [
    "mape(df_cv_nonzero['y'], df_cv_nonzero['yhat'])"
   ]
  },
  {
   "cell_type": "code",
   "execution_count": 119,
   "metadata": {},
   "outputs": [
    {
     "data": {
      "text/plain": [
       "0.11694975947102952"
      ]
     },
     "execution_count": 119,
     "metadata": {},
     "output_type": "execute_result"
    }
   ],
   "source": [
    "mape(df_cv_nonzero['y'], 0.1*df_cv_nonzero['baseline']+0.9*df_cv_nonzero['yhat'])"
   ]
  },
  {
   "cell_type": "code",
   "execution_count": null,
   "metadata": {},
   "outputs": [],
   "source": []
  }
 ],
 "metadata": {
  "kernelspec": {
   "display_name": "Python 3",
   "language": "python",
   "name": "python3"
  },
  "language_info": {
   "codemirror_mode": {
    "name": "ipython",
    "version": 3
   },
   "file_extension": ".py",
   "mimetype": "text/x-python",
   "name": "python",
   "nbconvert_exporter": "python",
   "pygments_lexer": "ipython3",
   "version": "3.7.3"
  }
 },
 "nbformat": 4,
 "nbformat_minor": 4
}
