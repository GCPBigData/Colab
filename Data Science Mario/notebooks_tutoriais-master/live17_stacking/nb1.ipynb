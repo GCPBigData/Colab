{
 "cells": [
  {
   "cell_type": "code",
   "execution_count": 1,
   "metadata": {},
   "outputs": [],
   "source": [
    "import pandas as pd\n",
    "import numpy as np"
   ]
  },
  {
   "cell_type": "markdown",
   "metadata": {},
   "source": [
    "# Procurando um curso prático de Data Science que cabe no seu bolso?\n",
    "# CursoDeDataScience.com\n",
    "# Começa 20:05 - não pule!"
   ]
  },
  {
   "cell_type": "code",
   "execution_count": 87,
   "metadata": {},
   "outputs": [],
   "source": [
    "train = pd.read_csv(\"train.csv\")\n",
    "test = pd.read_csv(\"test.csv\")\n",
    "train['Sex_binario'] = train['Sex'].map({\"male\": 0, \"female\": 1})\n",
    "\n",
    "test['Sex_binario'] = test['Sex'].map({\"male\": 0, \"female\": 1})"
   ]
  },
  {
   "cell_type": "code",
   "execution_count": 88,
   "metadata": {},
   "outputs": [
    {
     "data": {
      "text/html": [
       "<div>\n",
       "<style scoped>\n",
       "    .dataframe tbody tr th:only-of-type {\n",
       "        vertical-align: middle;\n",
       "    }\n",
       "\n",
       "    .dataframe tbody tr th {\n",
       "        vertical-align: top;\n",
       "    }\n",
       "\n",
       "    .dataframe thead th {\n",
       "        text-align: right;\n",
       "    }\n",
       "</style>\n",
       "<table border=\"1\" class=\"dataframe\">\n",
       "  <thead>\n",
       "    <tr style=\"text-align: right;\">\n",
       "      <th></th>\n",
       "      <th>PassengerId</th>\n",
       "      <th>Survived</th>\n",
       "      <th>Pclass</th>\n",
       "      <th>Name</th>\n",
       "      <th>Sex</th>\n",
       "      <th>Age</th>\n",
       "      <th>SibSp</th>\n",
       "      <th>Parch</th>\n",
       "      <th>Ticket</th>\n",
       "      <th>Fare</th>\n",
       "      <th>Cabin</th>\n",
       "      <th>Embarked</th>\n",
       "      <th>Sex_binario</th>\n",
       "    </tr>\n",
       "  </thead>\n",
       "  <tbody>\n",
       "    <tr>\n",
       "      <th>0</th>\n",
       "      <td>1</td>\n",
       "      <td>0</td>\n",
       "      <td>3</td>\n",
       "      <td>Braund, Mr. Owen Harris</td>\n",
       "      <td>male</td>\n",
       "      <td>22.0</td>\n",
       "      <td>1</td>\n",
       "      <td>0</td>\n",
       "      <td>A/5 21171</td>\n",
       "      <td>7.2500</td>\n",
       "      <td>NaN</td>\n",
       "      <td>S</td>\n",
       "      <td>0</td>\n",
       "    </tr>\n",
       "    <tr>\n",
       "      <th>1</th>\n",
       "      <td>2</td>\n",
       "      <td>1</td>\n",
       "      <td>1</td>\n",
       "      <td>Cumings, Mrs. John Bradley (Florence Briggs Th...</td>\n",
       "      <td>female</td>\n",
       "      <td>38.0</td>\n",
       "      <td>1</td>\n",
       "      <td>0</td>\n",
       "      <td>PC 17599</td>\n",
       "      <td>71.2833</td>\n",
       "      <td>C85</td>\n",
       "      <td>C</td>\n",
       "      <td>1</td>\n",
       "    </tr>\n",
       "    <tr>\n",
       "      <th>2</th>\n",
       "      <td>3</td>\n",
       "      <td>1</td>\n",
       "      <td>3</td>\n",
       "      <td>Heikkinen, Miss. Laina</td>\n",
       "      <td>female</td>\n",
       "      <td>26.0</td>\n",
       "      <td>0</td>\n",
       "      <td>0</td>\n",
       "      <td>STON/O2. 3101282</td>\n",
       "      <td>7.9250</td>\n",
       "      <td>NaN</td>\n",
       "      <td>S</td>\n",
       "      <td>1</td>\n",
       "    </tr>\n",
       "    <tr>\n",
       "      <th>3</th>\n",
       "      <td>4</td>\n",
       "      <td>1</td>\n",
       "      <td>1</td>\n",
       "      <td>Futrelle, Mrs. Jacques Heath (Lily May Peel)</td>\n",
       "      <td>female</td>\n",
       "      <td>35.0</td>\n",
       "      <td>1</td>\n",
       "      <td>0</td>\n",
       "      <td>113803</td>\n",
       "      <td>53.1000</td>\n",
       "      <td>C123</td>\n",
       "      <td>S</td>\n",
       "      <td>1</td>\n",
       "    </tr>\n",
       "    <tr>\n",
       "      <th>4</th>\n",
       "      <td>5</td>\n",
       "      <td>0</td>\n",
       "      <td>3</td>\n",
       "      <td>Allen, Mr. William Henry</td>\n",
       "      <td>male</td>\n",
       "      <td>35.0</td>\n",
       "      <td>0</td>\n",
       "      <td>0</td>\n",
       "      <td>373450</td>\n",
       "      <td>8.0500</td>\n",
       "      <td>NaN</td>\n",
       "      <td>S</td>\n",
       "      <td>0</td>\n",
       "    </tr>\n",
       "  </tbody>\n",
       "</table>\n",
       "</div>"
      ],
      "text/plain": [
       "   PassengerId  Survived  Pclass  \\\n",
       "0            1         0       3   \n",
       "1            2         1       1   \n",
       "2            3         1       3   \n",
       "3            4         1       1   \n",
       "4            5         0       3   \n",
       "\n",
       "                                                Name     Sex   Age  SibSp  \\\n",
       "0                            Braund, Mr. Owen Harris    male  22.0      1   \n",
       "1  Cumings, Mrs. John Bradley (Florence Briggs Th...  female  38.0      1   \n",
       "2                             Heikkinen, Miss. Laina  female  26.0      0   \n",
       "3       Futrelle, Mrs. Jacques Heath (Lily May Peel)  female  35.0      1   \n",
       "4                           Allen, Mr. William Henry    male  35.0      0   \n",
       "\n",
       "   Parch            Ticket     Fare Cabin Embarked  Sex_binario  \n",
       "0      0         A/5 21171   7.2500   NaN        S            0  \n",
       "1      0          PC 17599  71.2833   C85        C            1  \n",
       "2      0  STON/O2. 3101282   7.9250   NaN        S            1  \n",
       "3      0            113803  53.1000  C123        S            1  \n",
       "4      0            373450   8.0500   NaN        S            0  "
      ]
     },
     "execution_count": 88,
     "metadata": {},
     "output_type": "execute_result"
    }
   ],
   "source": [
    "train.head()"
   ]
  },
  {
   "cell_type": "code",
   "execution_count": 82,
   "metadata": {},
   "outputs": [],
   "source": [
    "X = train.select_dtypes(include=np.number).drop([\"PassengerId\", 'Survived'], axis=1).fillna(0)\n",
    "y = train['Survived']"
   ]
  },
  {
   "cell_type": "code",
   "execution_count": 78,
   "metadata": {},
   "outputs": [],
   "source": [
    "from sklearn.ensemble import RandomForestClassifier, ExtraTreesClassifier\n",
    "from sklearn.linear_model import LogisticRegression\n",
    "from sklearn.preprocessing import StandardScaler, MinMaxScaler\n",
    "from sklearn.model_selection import KFold\n",
    "from sklearn.metrics import log_loss, accuracy_score\n",
    "from sklearn.pipeline import make_pipeline"
   ]
  },
  {
   "cell_type": "code",
   "execution_count": 89,
   "metadata": {},
   "outputs": [
    {
     "name": "stdout",
     "output_type": "stream",
     "text": [
      "RF Accuracy: 0.7869955156950673 - Log Loss: 0.8891877224352214\n",
      "ET Accuracy: 0.7802690582959642 - Log Loss: 1.7277767849421113\n",
      "LR StdScaler Accuracy: 0.7713004484304933 - Log Loss: 0.4548870233895985\n",
      "LR MinMax Accuracy: 0.773542600896861 - Log Loss: 0.45730271249069515\n",
      "\n",
      "RF Accuracy: 0.8292134831460675 - Log Loss: 0.6313360340802087\n",
      "ET Accuracy: 0.8089887640449438 - Log Loss: 2.533916920090966\n",
      "LR StdScaler Accuracy: 0.7955056179775281 - Log Loss: 0.4579224442106097\n",
      "LR MinMax Accuracy: 0.802247191011236 - Log Loss: 0.4610789905245168\n",
      "\n"
     ]
    }
   ],
   "source": [
    "kf = KFold(n_splits=2, random_state=0, shuffle=True)\n",
    "\n",
    "\n",
    "second_level = np.zeros((X.shape[0], 4))\n",
    "\n",
    "for tr, ts in kf.split(X,y):\n",
    "    Xtr, Xval = X.iloc[tr], X.iloc[ts]\n",
    "    ytr, yval = y.iloc[tr], y.iloc[ts]\n",
    "    \n",
    "    rf = RandomForestClassifier(n_estimators=100, n_jobs=6, random_state=10)\n",
    "    rf.fit(Xtr, ytr)\n",
    "    prf = rf.predict_proba(Xval)[:,1]\n",
    "    prf_ = (prf > 0.5).astype(int)\n",
    "    \n",
    "    print(\"RF Accuracy: {} - Log Loss: {}\".format(accuracy_score(yval, prf_), log_loss(yval, prf)))\n",
    "    \n",
    "    et = ExtraTreesClassifier(n_estimators=100, n_jobs=6, random_state=10)\n",
    "    et.fit(Xtr, ytr)\n",
    "    pet = et.predict_proba(Xval)[:,1]\n",
    "    pet_ = (pet > 0.5).astype(int)\n",
    "    \n",
    "    print(\"ET Accuracy: {} - Log Loss: {}\".format(accuracy_score(yval, pet_), log_loss(yval, pet)))\n",
    "    \n",
    "    lr1 = make_pipeline(StandardScaler(), LogisticRegression())\n",
    "    lr1.fit(Xtr, ytr)\n",
    "    plr1 = lr1.predict_proba(Xval)[:,1]\n",
    "    plr1_ = (plr1 > 0.5).astype(int)\n",
    "    \n",
    "    print(\"LR StdScaler Accuracy: {} - Log Loss: {}\".format(accuracy_score(yval, plr1_), log_loss(yval, plr1)))\n",
    "    \n",
    "    lr2 = make_pipeline(MinMaxScaler(), LogisticRegression())\n",
    "    lr2.fit(Xtr, ytr)\n",
    "    plr2 = lr2.predict_proba(Xval)[:,1]\n",
    "    plr2_ = (plr2 > 0.5).astype(int)\n",
    "    \n",
    "    print(\"LR MinMax Accuracy: {} - Log Loss: {}\".format(accuracy_score(yval, plr2_), log_loss(yval, plr2)))\n",
    "    \n",
    "    second_level[ts, 0] = prf\n",
    "    second_level[ts, 1] = pet\n",
    "    second_level[ts, 2] = plr1\n",
    "    second_level[ts, 3] = plr2\n",
    "    \n",
    "    print()\n",
    "    \n",
    "# fatores de diversidade"
   ]
  },
  {
   "cell_type": "code",
   "execution_count": null,
   "metadata": {},
   "outputs": [],
   "source": [
    "# second_level.mean(axis=1)"
   ]
  },
  {
   "cell_type": "code",
   "execution_count": null,
   "metadata": {},
   "outputs": [],
   "source": [
    "folds = [1, 2, 3]\n",
    "\n",
    "primeiro nivel\n",
    "\n",
    "ciclo 1 = [1,2] [3]\n",
    "ciclo 2 = [1,3] [2]\n",
    "ciclo 3 = [2,3] [1]\n",
    "\n",
    "segundo nivel\n",
    "\n",
    "ciclo 1 = [1,2] [3]\n",
    "ciclo 2 = [1,3] [2]\n",
    "ciclo 3 = [2,3] [1]\n",
    "\n",
    "\n",
    "\n",
    "\n"
   ]
  },
  {
   "cell_type": "code",
   "execution_count": null,
   "metadata": {},
   "outputs": [],
   "source": [
    "# modelos - gbm + rede neural, knn \n",
    "# features\n",
    "# exemplos \n",
    "# hiperparametros "
   ]
  },
  {
   "cell_type": "code",
   "execution_count": 97,
   "metadata": {},
   "outputs": [
    {
     "data": {
      "text/plain": [
       "array([[0.15      , 0.19      , 0.0947167 , 0.11582552],\n",
       "       [0.95      , 0.99      , 0.90010202, 0.88974478],\n",
       "       [0.54      , 0.76      , 0.65737866, 0.63540321],\n",
       "       ...,\n",
       "       [0.74      , 0.76      , 0.61083421, 0.59159169],\n",
       "       [0.84      , 0.92      , 0.45575654, 0.45086285],\n",
       "       [0.35583333, 0.4       , 0.10479333, 0.11872796]])"
      ]
     },
     "execution_count": 97,
     "metadata": {},
     "output_type": "execute_result"
    }
   ],
   "source": [
    "second_level"
   ]
  },
  {
   "cell_type": "code",
   "execution_count": 95,
   "metadata": {},
   "outputs": [
    {
     "name": "stdout",
     "output_type": "stream",
     "text": [
      "Stack Accuracy: 0.8004484304932735  Log loss: 0.4379152913562436\n",
      "\n",
      "Stack Accuracy: 0.8157303370786517  Log loss: 0.42892608158477763\n",
      "\n"
     ]
    }
   ],
   "source": [
    "for tr, ts in kf.split(X,y):\n",
    "    \n",
    "    Xtr, Xval = second_level[tr], second_level[ts]\n",
    "    ytr, yval = y.iloc[tr], y.iloc[ts]\n",
    "    \n",
    "    lr_stack = LogisticRegression(C=1.)\n",
    "    lr_stack.fit(Xtr, ytr)\n",
    "    plr_stack = lr_stack.predict_proba(Xval)[:,1]\n",
    "    plr_stack_ = (plr_stack > 0.5).astype(int)\n",
    "    \n",
    "    print(\"Stack Accuracy: {}  Log loss: {}\".format(accuracy_score(yval, plr_stack_), log_loss(yval, plr_stack)))\n",
    "    print()"
   ]
  },
  {
   "cell_type": "code",
   "execution_count": 75,
   "metadata": {},
   "outputs": [
    {
     "data": {
      "text/html": [
       "<div>\n",
       "<style scoped>\n",
       "    .dataframe tbody tr th:only-of-type {\n",
       "        vertical-align: middle;\n",
       "    }\n",
       "\n",
       "    .dataframe tbody tr th {\n",
       "        vertical-align: top;\n",
       "    }\n",
       "\n",
       "    .dataframe thead th {\n",
       "        text-align: right;\n",
       "    }\n",
       "</style>\n",
       "<table border=\"1\" class=\"dataframe\">\n",
       "  <thead>\n",
       "    <tr style=\"text-align: right;\">\n",
       "      <th></th>\n",
       "      <th>0</th>\n",
       "      <th>1</th>\n",
       "      <th>2</th>\n",
       "      <th>3</th>\n",
       "    </tr>\n",
       "  </thead>\n",
       "  <tbody>\n",
       "    <tr>\n",
       "      <th>0</th>\n",
       "      <td>1.000000</td>\n",
       "      <td>0.935380</td>\n",
       "      <td>0.595684</td>\n",
       "      <td>0.578839</td>\n",
       "    </tr>\n",
       "    <tr>\n",
       "      <th>1</th>\n",
       "      <td>0.935380</td>\n",
       "      <td>1.000000</td>\n",
       "      <td>0.497313</td>\n",
       "      <td>0.479914</td>\n",
       "    </tr>\n",
       "    <tr>\n",
       "      <th>2</th>\n",
       "      <td>0.595684</td>\n",
       "      <td>0.497313</td>\n",
       "      <td>1.000000</td>\n",
       "      <td>0.987037</td>\n",
       "    </tr>\n",
       "    <tr>\n",
       "      <th>3</th>\n",
       "      <td>0.578839</td>\n",
       "      <td>0.479914</td>\n",
       "      <td>0.987037</td>\n",
       "      <td>1.000000</td>\n",
       "    </tr>\n",
       "  </tbody>\n",
       "</table>\n",
       "</div>"
      ],
      "text/plain": [
       "          0         1         2         3\n",
       "0  1.000000  0.935380  0.595684  0.578839\n",
       "1  0.935380  1.000000  0.497313  0.479914\n",
       "2  0.595684  0.497313  1.000000  0.987037\n",
       "3  0.578839  0.479914  0.987037  1.000000"
      ]
     },
     "execution_count": 75,
     "metadata": {},
     "output_type": "execute_result"
    }
   ],
   "source": [
    "pd.DataFrame(np.corrcoef(second_level.T))"
   ]
  },
  {
   "cell_type": "code",
   "execution_count": null,
   "metadata": {},
   "outputs": [],
   "source": []
  }
 ],
 "metadata": {
  "kernelspec": {
   "display_name": "Python 3",
   "language": "python",
   "name": "python3"
  },
  "language_info": {
   "codemirror_mode": {
    "name": "ipython",
    "version": 3
   },
   "file_extension": ".py",
   "mimetype": "text/x-python",
   "name": "python",
   "nbconvert_exporter": "python",
   "pygments_lexer": "ipython3",
   "version": "3.7.3"
  }
 },
 "nbformat": 4,
 "nbformat_minor": 4
}
