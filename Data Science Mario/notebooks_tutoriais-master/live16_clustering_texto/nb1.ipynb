{
 "cells": [
  {
   "cell_type": "code",
   "execution_count": 33,
   "metadata": {},
   "outputs": [],
   "source": [
    "import pandas as pd\n",
    "import numpy as np\n",
    "%matplotlib inline\n",
    "\n",
    "from sklearn.feature_extraction.text import CountVectorizer, TfidfVectorizer\n",
    "from sklearn.metrics import silhouette_score\n",
    "from sklearn.cluster import KMeans, DBSCAN, SpectralClustering"
   ]
  },
  {
   "cell_type": "markdown",
   "metadata": {},
   "source": [
    "# Quer aprender como eu faço um projeto de Data Science da ideia ao produto final? Acesse CursoDeDataScience.com"
   ]
  },
  {
   "cell_type": "markdown",
   "metadata": {},
   "source": [
    "https://www.kaggle.com/lukeimurfather/tweets"
   ]
  },
  {
   "cell_type": "code",
   "execution_count": 2,
   "metadata": {},
   "outputs": [],
   "source": [
    "tweets = pd.read_csv(\"nCoV_tweets.csv\", index_col=0, parse_dates=['dt'])"
   ]
  },
  {
   "cell_type": "code",
   "execution_count": 129,
   "metadata": {},
   "outputs": [],
   "source": [
    "docs = [\"curso de data, dAta science\", \n",
    "        \"tutorial de data analysis\", \n",
    "        \"não sei mais o que escrever analysis\"]"
   ]
  },
  {
   "cell_type": "code",
   "execution_count": 133,
   "metadata": {},
   "outputs": [
    {
     "data": {
      "text/html": [
       "<div>\n",
       "<style scoped>\n",
       "    .dataframe tbody tr th:only-of-type {\n",
       "        vertical-align: middle;\n",
       "    }\n",
       "\n",
       "    .dataframe tbody tr th {\n",
       "        vertical-align: top;\n",
       "    }\n",
       "\n",
       "    .dataframe thead th {\n",
       "        text-align: right;\n",
       "    }\n",
       "</style>\n",
       "<table border=\"1\" class=\"dataframe\">\n",
       "  <thead>\n",
       "    <tr style=\"text-align: right;\">\n",
       "      <th></th>\n",
       "      <th>analysis</th>\n",
       "      <th>data</th>\n",
       "    </tr>\n",
       "  </thead>\n",
       "  <tbody>\n",
       "    <tr>\n",
       "      <th>curso de data, dAta science</th>\n",
       "      <td>0</td>\n",
       "      <td>2</td>\n",
       "    </tr>\n",
       "    <tr>\n",
       "      <th>tutorial de data analysis</th>\n",
       "      <td>1</td>\n",
       "      <td>1</td>\n",
       "    </tr>\n",
       "    <tr>\n",
       "      <th>não sei mais o que escrever analysis</th>\n",
       "      <td>1</td>\n",
       "      <td>0</td>\n",
       "    </tr>\n",
       "  </tbody>\n",
       "</table>\n",
       "</div>"
      ],
      "text/plain": [
       "                                      analysis  data\n",
       "curso de data, dAta science                  0     2\n",
       "tutorial de data analysis                    1     1\n",
       "não sei mais o que escrever analysis         1     0"
      ]
     },
     "execution_count": 133,
     "metadata": {},
     "output_type": "execute_result"
    }
   ],
   "source": [
    "bag_of_words_transformer = CountVectorizer(binary=False, analyzer='word', stop_words=['de', 'que'], ngram_range=(1,1), min_df=2)\n",
    "mx = bag_of_words_transformer.fit_transform(docs).todense()\n",
    "terms = bag_of_words_transformer.get_feature_names()\n",
    "pd.DataFrame(mx, columns=terms, index=docs)\n",
    "\n",
    "\n",
    "#lowercase\n",
    "#analyzer='char'\n",
    "#strip_accents='unicode'\n",
    "#binary=True\n",
    "\n",
    "#stop_words=['de']\n",
    "#ngram_range=(1,1)\n",
    "#min_df\n",
    "\n",
    "#unigrama, bigrama, trigrama, "
   ]
  },
  {
   "cell_type": "code",
   "execution_count": null,
   "metadata": {},
   "outputs": [],
   "source": [
    "tf-idf ~= frequencia do palavra no documento * inverso da frequencia da palavra em todos os documentos"
   ]
  },
  {
   "cell_type": "code",
   "execution_count": 137,
   "metadata": {},
   "outputs": [
    {
     "data": {
      "text/html": [
       "<div>\n",
       "<style scoped>\n",
       "    .dataframe tbody tr th:only-of-type {\n",
       "        vertical-align: middle;\n",
       "    }\n",
       "\n",
       "    .dataframe tbody tr th {\n",
       "        vertical-align: top;\n",
       "    }\n",
       "\n",
       "    .dataframe thead th {\n",
       "        text-align: right;\n",
       "    }\n",
       "</style>\n",
       "<table border=\"1\" class=\"dataframe\">\n",
       "  <thead>\n",
       "    <tr style=\"text-align: right;\">\n",
       "      <th></th>\n",
       "      <th>analysis</th>\n",
       "      <th>curso</th>\n",
       "      <th>data</th>\n",
       "      <th>de</th>\n",
       "      <th>escrever</th>\n",
       "      <th>mais</th>\n",
       "      <th>não</th>\n",
       "      <th>que</th>\n",
       "      <th>science</th>\n",
       "      <th>sei</th>\n",
       "      <th>tutorial</th>\n",
       "    </tr>\n",
       "  </thead>\n",
       "  <tbody>\n",
       "    <tr>\n",
       "      <th>curso de data, dAta science</th>\n",
       "      <td>0.000000</td>\n",
       "      <td>0.452123</td>\n",
       "      <td>0.687703</td>\n",
       "      <td>0.343851</td>\n",
       "      <td>0.000000</td>\n",
       "      <td>0.000000</td>\n",
       "      <td>0.000000</td>\n",
       "      <td>0.000000</td>\n",
       "      <td>0.452123</td>\n",
       "      <td>0.000000</td>\n",
       "      <td>0.000000</td>\n",
       "    </tr>\n",
       "    <tr>\n",
       "      <th>tutorial de data analysis</th>\n",
       "      <td>0.459854</td>\n",
       "      <td>0.000000</td>\n",
       "      <td>0.459854</td>\n",
       "      <td>0.459854</td>\n",
       "      <td>0.000000</td>\n",
       "      <td>0.000000</td>\n",
       "      <td>0.000000</td>\n",
       "      <td>0.000000</td>\n",
       "      <td>0.000000</td>\n",
       "      <td>0.000000</td>\n",
       "      <td>0.604652</td>\n",
       "    </tr>\n",
       "    <tr>\n",
       "      <th>não sei mais o que escrever analysis</th>\n",
       "      <td>0.322002</td>\n",
       "      <td>0.000000</td>\n",
       "      <td>0.000000</td>\n",
       "      <td>0.000000</td>\n",
       "      <td>0.423394</td>\n",
       "      <td>0.423394</td>\n",
       "      <td>0.423394</td>\n",
       "      <td>0.423394</td>\n",
       "      <td>0.000000</td>\n",
       "      <td>0.423394</td>\n",
       "      <td>0.000000</td>\n",
       "    </tr>\n",
       "  </tbody>\n",
       "</table>\n",
       "</div>"
      ],
      "text/plain": [
       "                                      analysis     curso      data        de  \\\n",
       "curso de data, dAta science           0.000000  0.452123  0.687703  0.343851   \n",
       "tutorial de data analysis             0.459854  0.000000  0.459854  0.459854   \n",
       "não sei mais o que escrever analysis  0.322002  0.000000  0.000000  0.000000   \n",
       "\n",
       "                                      escrever      mais       não       que  \\\n",
       "curso de data, dAta science           0.000000  0.000000  0.000000  0.000000   \n",
       "tutorial de data analysis             0.000000  0.000000  0.000000  0.000000   \n",
       "não sei mais o que escrever analysis  0.423394  0.423394  0.423394  0.423394   \n",
       "\n",
       "                                       science       sei  tutorial  \n",
       "curso de data, dAta science           0.452123  0.000000  0.000000  \n",
       "tutorial de data analysis             0.000000  0.000000  0.604652  \n",
       "não sei mais o que escrever analysis  0.000000  0.423394  0.000000  "
      ]
     },
     "execution_count": 137,
     "metadata": {},
     "output_type": "execute_result"
    }
   ],
   "source": [
    "bag_of_words_transformer = TfidfVectorizer()\n",
    "mx = bag_of_words_transformer.fit_transform(docs).todense()\n",
    "terms = bag_of_words_transformer.get_feature_names()\n",
    "pd.DataFrame(mx, columns=terms, index=docs)\n",
    "\n",
    "\n",
    "# norm = Each output row will have unit norm, either: * ‘l2’: Sum of squares of vector elements is 1.\n",
    "#The cosine similarity between two vectors is their dot product when l2 norm has been applied. \n",
    "#* ‘l1’: Sum of absolute values of vector elements is 1. See preprocessing.normalize.\n",
    "\n",
    "#use_idf = False \n",
    "#use_idf = False e norm = l1, frequência simples"
   ]
  },
  {
   "cell_type": "code",
   "execution_count": 6,
   "metadata": {},
   "outputs": [],
   "source": [
    "from nltk.stem import SnowballStemmer"
   ]
  },
  {
   "cell_type": "code",
   "execution_count": 139,
   "metadata": {},
   "outputs": [
    {
     "data": {
      "text/plain": [
       "'não sei mais o que escrever analys'"
      ]
     },
     "execution_count": 139,
     "metadata": {},
     "output_type": "execute_result"
    }
   ],
   "source": [
    "stemmer.stem(docs[2])"
   ]
  },
  {
   "cell_type": "code",
   "execution_count": 7,
   "metadata": {},
   "outputs": [
    {
     "data": {
      "text/plain": [
       "('analis', 'analis')"
      ]
     },
     "execution_count": 7,
     "metadata": {},
     "output_type": "execute_result"
    }
   ],
   "source": [
    "stemmer = SnowballStemmer(language='portuguese')\n",
    "stemmer.stem(\"analisado\"), stemmer.stem(\"analise\")"
   ]
  },
  {
   "cell_type": "code",
   "execution_count": 153,
   "metadata": {},
   "outputs": [
    {
     "data": {
      "text/plain": [
       "(6706, 618)"
      ]
     },
     "execution_count": 153,
     "metadata": {},
     "output_type": "execute_result"
    }
   ],
   "source": [
    "bag_of_words_transformer = CountVectorizer(min_df=4, stop_words='english', ngram_range=(3,3))\n",
    "#ngram range 2,2, 3,3\n",
    "# stem\n",
    "mx = bag_of_words_transformer.fit_transform(tweets['txt'])#.todense()\n",
    "mx.shape"
   ]
  },
  {
   "cell_type": "code",
   "execution_count": 154,
   "metadata": {},
   "outputs": [],
   "source": [
    "from sklearn.pipeline import make_pipeline\n",
    "from sklearn.preprocessing import MaxAbsScaler"
   ]
  },
  {
   "cell_type": "code",
   "execution_count": 155,
   "metadata": {},
   "outputs": [
    {
     "name": "stdout",
     "output_type": "stream",
     "text": [
      "K = 2 - Silhouette: 0.7849594690794792\n",
      "K = 3 - Silhouette: 0.7872649732846221\n",
      "K = 4 - Silhouette: 0.7899806458433944\n",
      "K = 5 - Silhouette: 0.7916851880937629\n",
      "K = 6 - Silhouette: 0.7917029047299742\n",
      "K = 7 - Silhouette: 0.7967897372340083\n",
      "K = 8 - Silhouette: 0.7965854032241488\n",
      "K = 9 - Silhouette: 0.7980160269702951\n"
     ]
    }
   ],
   "source": [
    "for k in range(2,10):\n",
    "    cluster = make_pipeline(MaxAbsScaler(), KMeans(n_clusters=k, random_state=0))\n",
    "    cluster.fit(mx)\n",
    "    p = cluster.predict(mx)\n",
    "    \n",
    "    sil = silhouette_score(mx, p)\n",
    "    print(\"K = {} - Silhouette: {}\".format(k, sil))"
   ]
  },
  {
   "cell_type": "code",
   "execution_count": 156,
   "metadata": {},
   "outputs": [],
   "source": [
    "terms = bag_of_words_transformer.get_feature_names()"
   ]
  },
  {
   "cell_type": "code",
   "execution_count": 157,
   "metadata": {},
   "outputs": [
    {
     "name": "stdout",
     "output_type": "stream",
     "text": [
      "\n",
      "Cluster 0 - Size 6453\n",
      "coronavirus update wuhan                 0.002015\n",
      "coronavirus death toll                   0.002170\n",
      "30 hours birth                           0.002325\n",
      "accidentally leaked real                 0.002479\n",
      "guan zhuang bing                         0.002634\n",
      "tencent accidentally leaked              0.002634\n",
      "zhuang bing du                           0.002634\n",
      "just 30 hours                            0.002789\n",
      "novel coronavirus 2019                   0.002944\n",
      "cruise ship japan                        0.003099\n",
      "2019 novel coronavirus                   0.003254\n",
      "news china coronavirus                   0.003409\n",
      "world health organization                0.003719\n",
      "coronavirus coronaoutbreak coronanews    0.004184\n",
      "coronaoutbreak coronanews ncov2019       0.004184\n",
      "coronavirus asiannetwalking https        0.004339\n",
      "health coronavirus asiannetwalking       0.004339\n",
      "amid coronavirus outbreak                0.005114\n",
      "coronavirus 2019 ncov                    0.005114\n",
      "coronavirus outbreak https               0.007438\n",
      "dtype: float64\n",
      "\n",
      "Cluster 1 - Size 14\n",
      "coronavirus vaccine https                  0.000000\n",
      "coronavirus wuhancoronavirus wuhanvirus    0.000000\n",
      "coronavirus wuhan 2019ncov                 0.000000\n",
      "coronavirus wuhan https                    0.000000\n",
      "gt https sdfcrodiom                        0.071429\n",
      "efzbdv4cot details gt                      0.071429\n",
      "https efzbdv4cot details                   0.071429\n",
      "https n8owlcko0x https                     0.142857\n",
      "gt https n8owlcko0x                        0.142857\n",
      "gt https 9orx4j6buu                        0.214286\n",
      "https 9orx4j6buu https                     0.214286\n",
      "answered survive details                   0.428571\n",
      "outbreak answered survive                  0.428571\n",
      "survive details gt                         0.428571\n",
      "outbreak answered details                  0.500000\n",
      "answered details gt                        0.500000\n",
      "biggest questions outbreak                 1.000000\n",
      "questions outbreak answered                1.000000\n",
      "details gt https                           1.000000\n",
      "coronavirus biggest questions              1.000000\n",
      "dtype: float64\n",
      "\n",
      "Cluster 2 - Size 9\n",
      "coronavirus vaccine breakthrough              0.000000\n",
      "coronaviruswuhan coronavirusoutbreak https    0.000000\n",
      "coronavirus vaccine https                     0.000000\n",
      "coronavirus wuhan 2019ncov                    0.000000\n",
      "zone china sure                               0.000000\n",
      "coronavirus wuhan https                       0.000000\n",
      "coronavirus wuhancoronavirus wuhanvirus       0.000000\n",
      "coronavirusoutbreak china coronavirus         0.000000\n",
      "coronavirusoutbreak coronavirus https         0.000000\n",
      "details click https                           0.444444\n",
      "anti pollution clean                          1.000000\n",
      "pollution clean air                           1.000000\n",
      "oxybreath pro highly                          1.000000\n",
      "breathing mask details                        1.000000\n",
      "clean air breathing                           1.000000\n",
      "pro highly effective                          1.000000\n",
      "highly effective anti                         1.000000\n",
      "air breathing mask                            1.000000\n",
      "effective anti pollution                      1.000000\n",
      "mask details click                            1.000000\n",
      "dtype: float64\n",
      "\n",
      "Cluster 3 - Size 14\n",
      "coronavirus survive details         0.0\n",
      "coronavirus wuhan https             0.0\n",
      "coronavirus wuhan 2019ncov          0.0\n",
      "coronavirus vaccine https           0.0\n",
      "coronavirus vaccine breakthrough    0.0\n",
      "coronavirus updates live            0.0\n",
      "coronavirusoutbreak safety tips     0.0\n",
      "coronavirus transmitted people      0.0\n",
      "coronavirus travel ban              0.0\n",
      "coronavirus update china            0.0\n",
      "year old woman                      1.0\n",
      "woman 15th person                   1.0\n",
      "coronavirus fifth queensland        1.0\n",
      "37 year old                         1.0\n",
      "diagnosed coronavirus fifth         1.0\n",
      "person australia diagnosed          1.0\n",
      "15th person australia               1.0\n",
      "australia diagnosed coronavirus     1.0\n",
      "fifth queensland https              1.0\n",
      "old woman 15th                      1.0\n",
      "dtype: float64\n",
      "\n",
      "Cluster 4 - Size 18\n",
      "coronavirus survive details                0.000000\n",
      "coronavirus transmitted people             0.000000\n",
      "coronavirus travel ban                     0.000000\n",
      "coronavirusoutbreak coronavirus https      0.000000\n",
      "coronavirus update wuhan                   0.000000\n",
      "coronavirus update china                   0.000000\n",
      "coronavirus vaccine breakthrough           0.000000\n",
      "coronavirus vaccine https                  0.000000\n",
      "coronavirus wuhan 2019ncov                 0.000000\n",
      "coronavirus wuhan https                    0.000000\n",
      "coronavirus wuhancoronavirus wuhanvirus    0.000000\n",
      "coronavirus updates live                   0.000000\n",
      "zone china sure                            0.000000\n",
      "whatsapp 0555171905 https                  0.777778\n",
      "days vals surprise                         0.777778\n",
      "0205414305or whatsapp 0555171905           0.944444\n",
      "reach 0205414305or whatsapp                1.000000\n",
      "special reach 0205414305or                 1.000000\n",
      "surprise special reach                     1.000000\n",
      "vals surprise special                      1.000000\n",
      "dtype: float64\n",
      "\n",
      "Cluster 5 - Size 12\n",
      "cruelty stop eating                           0.0\n",
      "coronavirus vaccine https                     0.0\n",
      "coronavirus wuhan 2019ncov                    0.0\n",
      "coronavirus wuhan https                       0.0\n",
      "coronavirus wuhancoronavirus wuhanvirus       0.0\n",
      "coronavirusoutbreak china coronavirus         0.0\n",
      "coronavirusoutbreak coronavirus https         0.0\n",
      "coronavirusoutbreak safety tips               0.0\n",
      "coronaviruswuhan coronavirusoutbreak https    0.0\n",
      "coronavirus epidemic https                    0.0\n",
      "help publishing link                          1.0\n",
      "publishing link help                          1.0\n",
      "syrie est dur                                 1.0\n",
      "est dur https                                 1.0\n",
      "awareness suffering syria                     1.0\n",
      "link help raise                               1.0\n",
      "suffering syria syrie                         1.0\n",
      "syria syrie est                               1.0\n",
      "raise awareness suffering                     1.0\n",
      "help raise awareness                          1.0\n",
      "dtype: float64\n",
      "\n",
      "Cluster 6 - Size 11\n",
      "coronavirus updates live                   0.000000\n",
      "coronavirus vaccine https                  0.000000\n",
      "coronavirus wuhan 2019ncov                 0.000000\n",
      "coronavirus vaccine breakthrough           0.000000\n",
      "coronavirus wuhancoronavirus wuhanvirus    0.000000\n",
      "coronavirusoutbreak china coronavirus      0.000000\n",
      "coronavirusoutbreak coronavirus https      0.000000\n",
      "coronavirusoutbreak safety tips            0.000000\n",
      "coronavirus wuhan https                    0.000000\n",
      "bing du https                              0.181818\n",
      "guan zhuang bing                           0.181818\n",
      "zhuang bing du                             0.181818\n",
      "coronavirus statistics https               0.454545\n",
      "leak true terrifying                       0.909091\n",
      "terrifying coronavirus statistics          0.909091\n",
      "true terrifying coronavirus                0.909091\n",
      "china tencent accidentally                 1.000000\n",
      "tencent accidentally leak                  1.000000\n",
      "did china tencent                          1.000000\n",
      "accidentally leak true                     1.000000\n",
      "dtype: float64\n",
      "\n",
      "Cluster 7 - Size 168\n",
      "kits virus update           0.071429\n",
      "test lab opens              0.071429\n",
      "opens cdc ships             0.071429\n",
      "lab opens cdc               0.071429\n",
      "wuhan test lab              0.071429\n",
      "https 9orx4j6buu https      0.077381\n",
      "virus coronavirus https     0.083333\n",
      "efzbdv4cot details gt       0.083333\n",
      "https efzbdv4cot details    0.083333\n",
      "n8owlcko0x virus https      0.101190\n",
      "gt https qvezftkwkq         0.113095\n",
      "coronavirus sars flu        0.119048\n",
      "9orx4j6buu virus https      0.142857\n",
      "https n8owlcko0x virus      0.154762\n",
      "virus coronavirus sars      0.160714\n",
      "gt https n8owlcko0x         0.196429\n",
      "https 9orx4j6buu virus      0.196429\n",
      "survive details gt          0.244048\n",
      "gt https 9orx4j6buu         0.273810\n",
      "details gt https            1.000000\n",
      "dtype: float64\n",
      "\n",
      "Cluster 8 - Size 7\n",
      "coronavirus update china                      0.000000\n",
      "coronavirus update wuhan                      0.000000\n",
      "coronavirus vaccine breakthrough              0.000000\n",
      "coronaviruswuhan coronavirusoutbreak https    0.000000\n",
      "coronavirus wuhan 2019ncov                    0.000000\n",
      "zone china sure                               0.000000\n",
      "coronavirus wuhan https                       0.000000\n",
      "coronavirus wuhancoronavirus wuhanvirus       0.000000\n",
      "coronavirusoutbreak china coronavirus         0.000000\n",
      "coronavirusoutbreak coronavirus https         0.000000\n",
      "coronavirusoutbreak safety tips               0.000000\n",
      "rate recovery rate                            0.714286\n",
      "fully automated live                          0.857143\n",
      "mortality rate recovery                       0.857143\n",
      "automated live coronavirus                    0.857143\n",
      "live statistics mortality                     1.000000\n",
      "coronavirus updates live                      1.000000\n",
      "updates live statistics                       1.000000\n",
      "statistics mortality rate                     1.000000\n",
      "live coronavirus updates                      1.000000\n",
      "dtype: float64\n"
     ]
    }
   ],
   "source": [
    "k = 9\n",
    "cluster = make_pipeline(MaxAbsScaler(), KMeans(n_clusters=k, random_state=0))\n",
    "cluster.fit(mx)\n",
    "p = cluster.predict(mx)\n",
    "\n",
    "for c in np.unique(p):\n",
    "    print(\"\\nCluster {} - Size {}\".format(c, (p == c).sum()))\n",
    "    rank = pd.Series(np.array(mx[p==c].mean(axis=0)).squeeze(), index=terms).sort_values().tail(20)\n",
    "    print(rank)"
   ]
  },
  {
   "cell_type": "code",
   "execution_count": 147,
   "metadata": {},
   "outputs": [
    {
     "name": "stdout",
     "output_type": "stream",
     "text": [
      "\n",
      "Cluster 0\n",
      "test           0.058252\n",
      "lab            0.058252\n",
      "china          0.058252\n",
      "experts        0.063107\n",
      "sars           0.065534\n",
      "symptoms       0.067961\n",
      "questions      0.067961\n",
      "answered       0.067961\n",
      "biggest        0.067961\n",
      "efzbdv4cot     0.087379\n",
      "qvezftkwkq     0.092233\n",
      "outbreak       0.094660\n",
      "survive        0.114078\n",
      "n8owlcko0x     0.169903\n",
      "virus          0.174757\n",
      "9orx4j6buu     0.237864\n",
      "coronavirus    0.260922\n",
      "gt             0.294498\n",
      "https          0.588997\n",
      "details        1.000000\n",
      "dtype: float64\n",
      "\n",
      "Cluster 1\n",
      "amp                    0.015000\n",
      "case                   0.015846\n",
      "thanks                 0.016000\n",
      "good                   0.016308\n",
      "just                   0.017462\n",
      "cases                  0.017590\n",
      "virus                  0.017692\n",
      "2020                   0.018000\n",
      "chinese                0.018154\n",
      "coronavirusoutbreak    0.018308\n",
      "health                 0.019077\n",
      "quarantine             0.020000\n",
      "spread                 0.020615\n",
      "people                 0.021538\n",
      "wuhan                  0.022359\n",
      "latest                 0.024462\n",
      "outbreak               0.024769\n",
      "china                  0.058000\n",
      "coronavirus            0.152808\n",
      "https                  0.272308\n",
      "dtype: float64\n"
     ]
    }
   ],
   "source": [
    "centroids = cluster.named_steps['kmeans'].cluster_centers_\n",
    "for c in range(centroids.shape[0]):\n",
    "    print(\"\\nCluster {}\".format(c))\n",
    "    rank = pd.Series(centroids[c, :], index=terms).sort_values().tail(20)\n",
    "    print(rank)"
   ]
  },
  {
   "cell_type": "code",
   "execution_count": 158,
   "metadata": {},
   "outputs": [
    {
     "data": {
      "text/plain": [
       "array([[0.0243835 , 2.2801271 , 3.1933573 , ..., 2.60482705, 1.23336436,\n",
       "        2.7774603 ],\n",
       "       [0.0243835 , 2.2801271 , 3.1933573 , ..., 2.60482705, 1.23336436,\n",
       "        2.7774603 ],\n",
       "       [0.0243835 , 2.2801271 , 3.1933573 , ..., 2.60482705, 1.23336436,\n",
       "        2.7774603 ],\n",
       "       ...,\n",
       "       [1.73034273, 2.86338604, 3.63284061, ..., 3.12811828, 2.12630845,\n",
       "        3.27326835],\n",
       "       [0.0243835 , 2.2801271 , 3.1933573 , ..., 2.60482705, 1.23336436,\n",
       "        2.7774603 ],\n",
       "       [0.0243835 , 2.2801271 , 3.1933573 , ..., 2.60482705, 1.23336436,\n",
       "        2.7774603 ]])"
      ]
     },
     "execution_count": 158,
     "metadata": {},
     "output_type": "execute_result"
    }
   ],
   "source": [
    "cluster.transform(mx)"
   ]
  },
  {
   "cell_type": "code",
   "execution_count": 159,
   "metadata": {},
   "outputs": [],
   "source": [
    "tweets['cluster'] = p"
   ]
  },
  {
   "cell_type": "code",
   "execution_count": 160,
   "metadata": {},
   "outputs": [
    {
     "name": "stdout",
     "output_type": "stream",
     "text": [
      "Cluster 0 = what the actual -\n",
      "\n",
      "Cluster 1 = What is coronavirus? The biggest questions about the outbreak, answered. SURVIVE SEE DETAILS AT ==&gt;... https://t.co/21AGGnBj58\n",
      "\n",
      "Cluster 2 = @IsChinar OxyBreath Pro\n",
      "Highly Effective Anti-Pollution Clean Air Breathing Mask.\n",
      "Full details please click on a li... https://t.co/uWq9DZ9XI9\n",
      "\n",
      "Cluster 3 = A 37-year-old woman has become the 15th person in Australia diagnosed with coronavirus - the fifth in Queensland.... https://t.co/UtfPvHwjvR\n",
      "\n",
      "Cluster 4 = Vals Is Here Surprise That Special Someone Now\n",
      "\n",
      "You can reach Us On 0205414305or WhatsApp 0555171905 \n",
      "For The Bes... https://t.co/E9CSZvxFCT\n",
      "\n",
      "Cluster 5 = \n",
      "\n",
      "Can you help us by publishing this link to help raise Awareness of the suffering in #Syria\n",
      "\n",
      "#Syrie\n",
      "C'est dur a r... https://t.co/FnS9hjdXFo\n",
      "\n",
      "Cluster 6 = Did China's Tencent Accidentally Leak The True Terrifying #Coronavirus Statistics https://t.co/gyd8C00Pxg\n",
      "\n",
      "Cluster 7 = Coronavirus Latest Updates: Everything You Need to Know SEE DETAILS AT ==&gt; https://t.co/9orX4j6BuU #virus... https://t.co/EZkVAQuI3G\n",
      "\n",
      "Cluster 8 = @ABSCBNNews @raphbosano Fully Automated Live #CoronaVirus Updates. \n",
      "* Live Statistics: Mortality rate, recovery rat... https://t.co/RXbHWuWM58\n",
      "\n"
     ]
    }
   ],
   "source": [
    "for c in np.unique(p):\n",
    "    print('Cluster {} = {}'.format(c, tweets[tweets['cluster'] == c]['txt'].iloc[0]))\n",
    "    print()\n",
    "    "
   ]
  },
  {
   "cell_type": "code",
   "execution_count": null,
   "metadata": {},
   "outputs": [],
   "source": []
  }
 ],
 "metadata": {
  "kernelspec": {
   "display_name": "Python 3",
   "language": "python",
   "name": "python3"
  },
  "language_info": {
   "codemirror_mode": {
    "name": "ipython",
    "version": 3
   },
   "file_extension": ".py",
   "mimetype": "text/x-python",
   "name": "python",
   "nbconvert_exporter": "python",
   "pygments_lexer": "ipython3",
   "version": "3.7.3"
  }
 },
 "nbformat": 4,
 "nbformat_minor": 4
}
