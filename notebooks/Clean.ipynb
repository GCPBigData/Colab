{
 "cells": [
  {
   "cell_type": "code",
   "execution_count": 1,
   "metadata": {},
   "outputs": [],
   "source": [
    "import itertools\n",
    "import matplotlib.pyplot as plt\n",
    "import numpy as np\n",
    "import pandas as pd\n",
    "\n",
    "%matplotlib inline\n",
    "\n",
    "from sklearn.externals import joblib\n",
    "from sklearn.linear_model import LogisticRegression\n",
    "from sklearn.model_selection import train_test_split, GridSearchCV\n",
    "from sklearn.metrics import accuracy_score, confusion_matrix, make_scorer\n",
    "from sklearn.utils import shuffle\n",
    "\n",
    "from tools import plot_confusion_matrix"
   ]
  },
  {
   "cell_type": "code",
   "execution_count": 2,
   "metadata": {},
   "outputs": [
    {
     "data": {
      "text/plain": [
       "(89518, 30)"
      ]
     },
     "execution_count": 2,
     "metadata": {},
     "output_type": "execute_result"
    }
   ],
   "source": [
    "df = pd.read_csv('../data/datatran2017.csv', sep=';', encoding=\"latin1\")\n",
    "df.shape"
   ]
  },
  {
   "cell_type": "code",
   "execution_count": 3,
   "metadata": {},
   "outputs": [
    {
     "data": {
      "text/plain": [
       "Com Vítimas Feridas    53647\n",
       "Sem Vítimas            30689\n",
       "Com Vítimas Fatais      5182\n",
       "Name: classificacao_acidente, dtype: int64"
      ]
     },
     "execution_count": 3,
     "metadata": {},
     "output_type": "execute_result"
    }
   ],
   "source": [
    "df.classificacao_acidente.value_counts()"
   ]
  },
  {
   "cell_type": "code",
   "execution_count": 4,
   "metadata": {},
   "outputs": [
    {
     "data": {
      "text/plain": [
       "(96363, 25)"
      ]
     },
     "execution_count": 4,
     "metadata": {},
     "output_type": "execute_result"
    }
   ],
   "source": [
    "df1 = pd.read_csv('../data/datatran2016_atual.csv', sep=';', encoding=\"latin1\")\n",
    "df1.shape"
   ]
  },
  {
   "cell_type": "code",
   "execution_count": 5,
   "metadata": {},
   "outputs": [],
   "source": [
    "def fix_date(date):\n",
    "    l = date.split('/')\n",
    "    return '20{}-{}-{}'.format(l[2], l[1], l[0])\n",
    "    \n",
    "\n",
    "data = df1.data_inversa.apply(lambda x: fix_date(x))\n",
    "df1.data_inversa = data"
   ]
  },
  {
   "cell_type": "code",
   "execution_count": 6,
   "metadata": {},
   "outputs": [
    {
     "data": {
      "text/plain": [
       "Com Vítimas Feridas    54873\n",
       "Sem Vítimas            34478\n",
       "Com Vítimas Fatais      5355\n",
       "Ignorado                1656\n",
       "Name: classificacao_acidente, dtype: int64"
      ]
     },
     "execution_count": 6,
     "metadata": {},
     "output_type": "execute_result"
    }
   ],
   "source": [
    "df1.classificacao_acidente.value_counts()"
   ]
  },
  {
   "cell_type": "code",
   "execution_count": 7,
   "metadata": {},
   "outputs": [],
   "source": [
    "df_completo = pd.concat([df, df1])"
   ]
  },
  {
   "cell_type": "code",
   "execution_count": 8,
   "metadata": {},
   "outputs": [
    {
     "data": {
      "text/html": [
       "<div>\n",
       "<table border=\"1\" class=\"dataframe\">\n",
       "  <thead>\n",
       "    <tr style=\"text-align: right;\">\n",
       "      <th></th>\n",
       "      <th>br</th>\n",
       "      <th>causa_acidente</th>\n",
       "      <th>classificacao_acidente</th>\n",
       "      <th>condicao_metereologica</th>\n",
       "      <th>data_inversa</th>\n",
       "      <th>delegacia</th>\n",
       "      <th>dia_semana</th>\n",
       "      <th>fase_dia</th>\n",
       "      <th>feridos</th>\n",
       "      <th>feridos_graves</th>\n",
       "      <th>...</th>\n",
       "      <th>pessoas</th>\n",
       "      <th>regional</th>\n",
       "      <th>sentido_via</th>\n",
       "      <th>tipo_acidente</th>\n",
       "      <th>tipo_pista</th>\n",
       "      <th>tracado_via</th>\n",
       "      <th>uf</th>\n",
       "      <th>uop</th>\n",
       "      <th>uso_solo</th>\n",
       "      <th>veiculos</th>\n",
       "    </tr>\n",
       "  </thead>\n",
       "  <tbody>\n",
       "    <tr>\n",
       "      <th>96358</th>\n",
       "      <td>163.0</td>\n",
       "      <td>Falta de atenção</td>\n",
       "      <td>Com Vítimas Fatais</td>\n",
       "      <td>Ceu Claro</td>\n",
       "      <td>2016-11-10</td>\n",
       "      <td>NaN</td>\n",
       "      <td>Quinta</td>\n",
       "      <td>Pleno dia</td>\n",
       "      <td>1</td>\n",
       "      <td>0</td>\n",
       "      <td>...</td>\n",
       "      <td>2</td>\n",
       "      <td>NaN</td>\n",
       "      <td>Crescente</td>\n",
       "      <td>Saída de Pista</td>\n",
       "      <td>Simples</td>\n",
       "      <td>Reta</td>\n",
       "      <td>MT</td>\n",
       "      <td>NaN</td>\n",
       "      <td>Urbano</td>\n",
       "      <td>1</td>\n",
       "    </tr>\n",
       "    <tr>\n",
       "      <th>96359</th>\n",
       "      <td>428.0</td>\n",
       "      <td>Ingestão de álcool</td>\n",
       "      <td>Com Vítimas Feridas</td>\n",
       "      <td>Ceu Claro</td>\n",
       "      <td>2016-01-01</td>\n",
       "      <td>NaN</td>\n",
       "      <td>Sexta</td>\n",
       "      <td>Plena noite</td>\n",
       "      <td>1</td>\n",
       "      <td>1</td>\n",
       "      <td>...</td>\n",
       "      <td>3</td>\n",
       "      <td>NaN</td>\n",
       "      <td>Decrescente</td>\n",
       "      <td>Colisão traseira</td>\n",
       "      <td>Simples</td>\n",
       "      <td>Reta</td>\n",
       "      <td>PE</td>\n",
       "      <td>NaN</td>\n",
       "      <td>Urbano</td>\n",
       "      <td>2</td>\n",
       "    </tr>\n",
       "    <tr>\n",
       "      <th>96360</th>\n",
       "      <td>267.0</td>\n",
       "      <td>Velocidade incompatível</td>\n",
       "      <td>Com Vítimas Feridas</td>\n",
       "      <td>Chuva</td>\n",
       "      <td>2016-12-10</td>\n",
       "      <td>NaN</td>\n",
       "      <td>Sábado</td>\n",
       "      <td>Pleno dia</td>\n",
       "      <td>1</td>\n",
       "      <td>0</td>\n",
       "      <td>...</td>\n",
       "      <td>1</td>\n",
       "      <td>NaN</td>\n",
       "      <td>Decrescente</td>\n",
       "      <td>Saída de Pista</td>\n",
       "      <td>Simples</td>\n",
       "      <td>Curva</td>\n",
       "      <td>MG</td>\n",
       "      <td>NaN</td>\n",
       "      <td>Rural</td>\n",
       "      <td>1</td>\n",
       "    </tr>\n",
       "    <tr>\n",
       "      <th>96361</th>\n",
       "      <td>393.0</td>\n",
       "      <td>Defeito mecânico em veículo</td>\n",
       "      <td>Sem Vítimas</td>\n",
       "      <td>Ceu Claro</td>\n",
       "      <td>2016-12-28</td>\n",
       "      <td>NaN</td>\n",
       "      <td>Quarta</td>\n",
       "      <td>Pleno dia</td>\n",
       "      <td>0</td>\n",
       "      <td>0</td>\n",
       "      <td>...</td>\n",
       "      <td>3</td>\n",
       "      <td>NaN</td>\n",
       "      <td>Crescente</td>\n",
       "      <td>Colisão lateral</td>\n",
       "      <td>Simples</td>\n",
       "      <td>Reta</td>\n",
       "      <td>RJ</td>\n",
       "      <td>NaN</td>\n",
       "      <td>Urbano</td>\n",
       "      <td>2</td>\n",
       "    </tr>\n",
       "    <tr>\n",
       "      <th>96362</th>\n",
       "      <td>40.0</td>\n",
       "      <td>Outras</td>\n",
       "      <td>Com Vítimas Feridas</td>\n",
       "      <td>Chuva</td>\n",
       "      <td>2016-12-04</td>\n",
       "      <td>NaN</td>\n",
       "      <td>Domingo</td>\n",
       "      <td>Anoitecer</td>\n",
       "      <td>5</td>\n",
       "      <td>2</td>\n",
       "      <td>...</td>\n",
       "      <td>13</td>\n",
       "      <td>NaN</td>\n",
       "      <td>Crescente</td>\n",
       "      <td>Capotamento</td>\n",
       "      <td>Dupla</td>\n",
       "      <td>Curva</td>\n",
       "      <td>RJ</td>\n",
       "      <td>NaN</td>\n",
       "      <td>Rural</td>\n",
       "      <td>1</td>\n",
       "    </tr>\n",
       "  </tbody>\n",
       "</table>\n",
       "<p>5 rows × 30 columns</p>\n",
       "</div>"
      ],
      "text/plain": [
       "          br               causa_acidente classificacao_acidente  \\\n",
       "96358  163.0             Falta de atenção     Com Vítimas Fatais   \n",
       "96359  428.0           Ingestão de álcool    Com Vítimas Feridas   \n",
       "96360  267.0      Velocidade incompatível    Com Vítimas Feridas   \n",
       "96361  393.0  Defeito mecânico em veículo            Sem Vítimas   \n",
       "96362   40.0                       Outras    Com Vítimas Feridas   \n",
       "\n",
       "      condicao_metereologica data_inversa delegacia dia_semana     fase_dia  \\\n",
       "96358              Ceu Claro   2016-11-10       NaN     Quinta    Pleno dia   \n",
       "96359              Ceu Claro   2016-01-01       NaN      Sexta  Plena noite   \n",
       "96360                  Chuva   2016-12-10       NaN     Sábado    Pleno dia   \n",
       "96361              Ceu Claro   2016-12-28       NaN     Quarta    Pleno dia   \n",
       "96362                  Chuva   2016-12-04       NaN    Domingo    Anoitecer   \n",
       "\n",
       "       feridos  feridos_graves   ...     pessoas regional  sentido_via  \\\n",
       "96358        1               0   ...           2      NaN    Crescente   \n",
       "96359        1               1   ...           3      NaN  Decrescente   \n",
       "96360        1               0   ...           1      NaN  Decrescente   \n",
       "96361        0               0   ...           3      NaN    Crescente   \n",
       "96362        5               2   ...          13      NaN    Crescente   \n",
       "\n",
       "          tipo_acidente  tipo_pista tracado_via  uf  uop  uso_solo veiculos  \n",
       "96358    Saída de Pista     Simples        Reta  MT  NaN    Urbano        1  \n",
       "96359  Colisão traseira     Simples        Reta  PE  NaN    Urbano        2  \n",
       "96360    Saída de Pista     Simples       Curva  MG  NaN     Rural        1  \n",
       "96361   Colisão lateral     Simples        Reta  RJ  NaN    Urbano        2  \n",
       "96362       Capotamento       Dupla       Curva  RJ  NaN     Rural        1  \n",
       "\n",
       "[5 rows x 30 columns]"
      ]
     },
     "execution_count": 8,
     "metadata": {},
     "output_type": "execute_result"
    }
   ],
   "source": [
    "df_completo.tail()"
   ]
  },
  {
   "cell_type": "code",
   "execution_count": 9,
   "metadata": {},
   "outputs": [
    {
     "data": {
      "text/plain": [
       "Com Vítimas Feridas    108520\n",
       "Sem Vítimas             65167\n",
       "Com Vítimas Fatais      10537\n",
       "Ignorado                 1656\n",
       "Name: classificacao_acidente, dtype: int64"
      ]
     },
     "execution_count": 9,
     "metadata": {},
     "output_type": "execute_result"
    }
   ],
   "source": [
    "df_completo.classificacao_acidente.value_counts()"
   ]
  },
  {
   "cell_type": "code",
   "execution_count": 10,
   "metadata": {},
   "outputs": [
    {
     "data": {
      "text/plain": [
       "(184225, 30)"
      ]
     },
     "execution_count": 10,
     "metadata": {},
     "output_type": "execute_result"
    }
   ],
   "source": [
    "df = df_completo[df_completo.classificacao_acidente!='Ignorado']\n",
    "df.shape"
   ]
  },
  {
   "cell_type": "code",
   "execution_count": 11,
   "metadata": {
    "scrolled": true
   },
   "outputs": [
    {
     "name": "stderr",
     "output_type": "stream",
     "text": [
      "/Users/leportella/.virtualenvs/udacity/lib/python3.6/site-packages/ipykernel_launcher.py:1: SettingWithCopyWarning: \n",
      "A value is trying to be set on a copy of a slice from a DataFrame.\n",
      "Try using .loc[row_indexer,col_indexer] = value instead\n",
      "\n",
      "See the caveats in the documentation: http://pandas.pydata.org/pandas-docs/stable/indexing.html#indexing-view-versus-copy\n",
      "  \"\"\"Entry point for launching an IPython kernel.\n",
      "/Users/leportella/.virtualenvs/udacity/lib/python3.6/site-packages/ipykernel_launcher.py:2: SettingWithCopyWarning: \n",
      "A value is trying to be set on a copy of a slice from a DataFrame.\n",
      "Try using .loc[row_indexer,col_indexer] = value instead\n",
      "\n",
      "See the caveats in the documentation: http://pandas.pydata.org/pandas-docs/stable/indexing.html#indexing-view-versus-copy\n",
      "  \n",
      "/Users/leportella/.virtualenvs/udacity/lib/python3.6/site-packages/ipykernel_launcher.py:3: SettingWithCopyWarning: \n",
      "A value is trying to be set on a copy of a slice from a DataFrame.\n",
      "Try using .loc[row_indexer,col_indexer] = value instead\n",
      "\n",
      "See the caveats in the documentation: http://pandas.pydata.org/pandas-docs/stable/indexing.html#indexing-view-versus-copy\n",
      "  This is separate from the ipykernel package so we can avoid doing imports until\n",
      "/Users/leportella/.virtualenvs/udacity/lib/python3.6/site-packages/ipykernel_launcher.py:4: SettingWithCopyWarning: \n",
      "A value is trying to be set on a copy of a slice from a DataFrame.\n",
      "Try using .loc[row_indexer,col_indexer] = value instead\n",
      "\n",
      "See the caveats in the documentation: http://pandas.pydata.org/pandas-docs/stable/indexing.html#indexing-view-versus-copy\n",
      "  after removing the cwd from sys.path.\n",
      "/Users/leportella/.virtualenvs/udacity/lib/python3.6/site-packages/ipykernel_launcher.py:6: SettingWithCopyWarning: \n",
      "A value is trying to be set on a copy of a slice from a DataFrame\n",
      "\n",
      "See the caveats in the documentation: http://pandas.pydata.org/pandas-docs/stable/indexing.html#indexing-view-versus-copy\n",
      "  \n"
     ]
    }
   ],
   "source": [
    "df['hour'] = df.horario.apply(lambda x: x.split(':')[0])\n",
    "df['year'] = df.data_inversa.apply(lambda x: x.split('-')[0])\n",
    "df['month'] = df.data_inversa.apply(lambda x: x.split('-')[1])\n",
    "df['day'] = df.data_inversa.apply(lambda x: x.split('-')[2])\n",
    "\n",
    "df.drop(['horario', 'data_inversa', 'id'], axis=1, inplace=True)"
   ]
  },
  {
   "cell_type": "code",
   "execution_count": 12,
   "metadata": {},
   "outputs": [],
   "source": [
    "value = {\n",
    "    'Com Vítimas Feridas': 1,\n",
    "    'Sem Vítimas': 0,\n",
    "    'Com Vítimas Fatais': 2\n",
    "}"
   ]
  },
  {
   "cell_type": "code",
   "execution_count": 13,
   "metadata": {},
   "outputs": [
    {
     "data": {
      "text/plain": [
       "(184224, 31)"
      ]
     },
     "execution_count": 13,
     "metadata": {},
     "output_type": "execute_result"
    }
   ],
   "source": [
    "df = df[~df.classificacao_acidente.isnull()]\n",
    "df.shape"
   ]
  },
  {
   "cell_type": "code",
   "execution_count": 14,
   "metadata": {},
   "outputs": [
    {
     "data": {
      "text/plain": [
       "(184224, 32)"
      ]
     },
     "execution_count": 14,
     "metadata": {},
     "output_type": "execute_result"
    }
   ],
   "source": [
    "df['target'] = df.classificacao_acidente.apply(lambda x: value[x])\n",
    "df.shape"
   ]
  },
  {
   "cell_type": "code",
   "execution_count": 15,
   "metadata": {},
   "outputs": [],
   "source": [
    "weekdays = {\n",
    "    'sábado': 'saturday',\n",
    "    'domingo': 'sunday',\n",
    "    'sexta-feira': 'friday',\n",
    "    'sexta': 'friday',\n",
    "    'segunda-feira': 'monday',\n",
    "    'segunda': 'monday',\n",
    "    'quinta-feira': 'thursday',\n",
    "    'quinta': 'thursday',\n",
    "    'quarta-feira': 'wednesday',\n",
    "    'quarta': 'wednesday',\n",
    "    'terça-feira': 'tuesday',\n",
    "    'terça': 'tuesday',\n",
    "}\n",
    "\n",
    "df['weekday'] = df.dia_semana.apply(lambda x: weekdays[x.lower()])"
   ]
  },
  {
   "cell_type": "code",
   "execution_count": 16,
   "metadata": {},
   "outputs": [],
   "source": [
    "accident_type = {\n",
    "    'saída de leito carroçável': 'carriage bed outlet',\n",
    "    'saída de pista': 'out of road',\n",
    "    'colisão traseira': 'rear collision',             \n",
    "    'colisão lateral': 'lateral collision',\n",
    "    'colisão transversal': 'transversal collision',\n",
    "    'colisão com objeto estático': 'collision with static object',\n",
    "    'colisão com objeto fixo': 'collision with static object',\n",
    "    'colisão frontal': 'frontal collision',\n",
    "    'colisão com objeto em movimento': 'collision with moving object',\n",
    "    'colisão com objeto móvel': 'collision with moving object',\n",
    "    'colisão com bicicleta': 'bike collision',\n",
    "\n",
    "    'tombamento': 'tipping',\n",
    "\n",
    "    'atropelamento de animal': 'animal trampling', \n",
    "    'atropelamento de pedestre': 'pedestrian trampling',\n",
    "    'atropelamento de pessoa': 'pedestrian trampling',\n",
    "\n",
    "    'queda de ocupante de veículo': 'vehicle occupant fall',\n",
    "    'queda de motocicleta / bicicleta / veículo': 'vehicle fall',\n",
    "\n",
    "    'engavetamento': 'pestle',      \n",
    "    'incêndio': 'fire',\n",
    "    'derramamento de carga': 'cargo spill',\n",
    "    'danos eventuais': 'eventual damage',\n",
    "    'capotamento': 'rollover',\n",
    "}\n",
    "\n",
    "df['accident_type'] = df.tipo_acidente.apply(lambda x: accident_type[x.lower().strip()])"
   ]
  },
  {
   "cell_type": "code",
   "execution_count": 17,
   "metadata": {},
   "outputs": [],
   "source": [
    "accident_type_simple = {\n",
    "    'saída de leito carroçável': 'carriage bed outlet',\n",
    "    'saída de pista': 'out of road',\n",
    "    'colisão traseira': 'collision',             \n",
    "    'colisão lateral': 'collision',\n",
    "    'colisão transversal': 'collision',\n",
    "    'colisão com objeto estático': 'collision',\n",
    "    'colisão com objeto fixo': 'collision',\n",
    "    'colisão frontal': 'collision',\n",
    "    'colisão com objeto em movimento': 'collision',\n",
    "    'colisão com objeto móvel': 'collision',\n",
    "    'colisão com bicicleta': 'collision',\n",
    "\n",
    "    'tombamento': 'tipping',\n",
    "\n",
    "    'atropelamento de animal': 'trampling', \n",
    "    'atropelamento de pedestre': 'trampling',\n",
    "    'atropelamento de pessoa': 'trampling',\n",
    "\n",
    "    'queda de ocupante de veículo': 'vehicle occupant fall',\n",
    "    'queda de motocicleta / bicicleta / veículo': 'vehicle fall',\n",
    "\n",
    "    'engavetamento': 'pestle',      \n",
    "    'incêndio': 'fire',\n",
    "    'derramamento de carga': 'cargo spill',\n",
    "    'danos eventuais': 'eventual damage',\n",
    "    'capotamento': 'rollover',\n",
    "}\n",
    "\n",
    "df['accident_type_simplified'] = df.tipo_acidente.apply(lambda x: accident_type_simple[x.lower().strip()])"
   ]
  },
  {
   "cell_type": "code",
   "execution_count": 18,
   "metadata": {},
   "outputs": [],
   "source": [
    "accident_cause = {\n",
    " 'fenômenos da natureza': 'nature phenomena',\n",
    " 'falta de atenção à condução': 'lack of attention to driving',\n",
    " 'animais na pista': 'animal in the road',\n",
    " 'avarias e/ou desgaste excessivo no pneu': 'problems on the tire',\n",
    " 'ingestão de álcool': 'alcohol ingestion',\n",
    " 'defeito mecânico no veículo': 'mecanical problem',\n",
    " 'desobediência às normas de trânsito pelo condutor': 'disobedience to the rules of transit by the driver',\n",
    " 'velocidade incompatível': 'incompatible speed',\n",
    " 'restrição de visibilidade': 'visibility restriction',\n",
    " 'falta de atenção do pedestre': 'lack of attention of the pedestrian',\n",
    " 'condutor dormindo': 'driver asleep',\n",
    " 'pista escorregadia': 'slippery track',\n",
    " 'não guardar distância de segurança': 'unsafety distance',\n",
    " 'ultrapassagem indevida': 'improper overshoot',\n",
    " 'defeito na via': 'defect on the road',\n",
    " 'sinalização da via insuficiente ou inadequada': 'insufficient or inadequate road signs',\n",
    " 'mal súbito': 'sudden onset',\n",
    " 'carga excessiva e/ou mal acondicionada': 'excessive cargo',\n",
    " 'objeto estático sobre o leito carroçável': 'static object on the dockable bed',\n",
    " 'deficiência ou não acionamento do sistema de iluminação/sinalização do veículo': 'no lights on the vehicle',\n",
    " 'ingestão de substâncias psicoativas': 'drugs ingestion',\n",
    " 'agressão externa': 'external offensive',\n",
    " 'falta de atenção': 'lack of attention',\n",
    " 'ingestão de álcool': 'alcohol ingestion',\n",
    " 'outras': 'other',\n",
    " 'velocidade incompatível': 'incompatible speed',\n",
    " 'ultrapassagem indevida': 'improper overshoot',\n",
    " 'dormindo': 'driver asleep',\n",
    " 'desobediência à sinalização': 'disobedience to the rules of transit by the driver',\n",
    " 'defeito mecânico em veículo': 'mecanical problem',\n",
    " 'não guardar distância de segurança': 'unsafety distance',\n",
    " 'defeito na via': 'defect on the road',\n",
    " 'animais na pista': 'animal in the road',        \n",
    "}\n",
    "\n",
    "df['accident_cause_simplified'] = df.causa_acidente.apply(lambda x: accident_cause[x.lower().strip()])"
   ]
  },
  {
   "cell_type": "code",
   "execution_count": 19,
   "metadata": {},
   "outputs": [],
   "source": [
    "clima = {\n",
    " 'chuva': 'rain',\n",
    " 'garoa/chuvisco': 'bad weather',\n",
    " 'céu claro': 'clear sky',\n",
    " 'nublado': 'cloudy',\n",
    " 'ignorado': 'notavailable',\n",
    " 'nevoeiro/neblina': 'bad weather',\n",
    " 'sol': 'clear sky',\n",
    " 'vento': 'windy',\n",
    " 'granizo': 'bad weather',\n",
    " 'neve': 'bad weather',\n",
    " 'vento': 'bad weather',\n",
    " 'ceu claro': 'clear sky',\n",
    " 'nublado': 'cloudy',\n",
    " 'chuva': 'rain',\n",
    " 'nevoeiro/neblina': 'bad weather',\n",
    " 'sol': 'clear sky',\n",
    " 'ignorada': 'notavailable',\n",
    " 'granizo': 'bad weather',\n",
    " 'indisponivel': 'notavailable',\n",
    " 'neve': 'bad weather'\n",
    "}\n",
    "\n",
    "df['climate'] = df.condicao_metereologica.fillna('indisponivel').apply(lambda x: clima[x.lower().strip()])"
   ]
  },
  {
   "cell_type": "code",
   "execution_count": 20,
   "metadata": {},
   "outputs": [],
   "source": [
    "df = df[df.climate != 'notavailable']"
   ]
  },
  {
   "cell_type": "code",
   "execution_count": 21,
   "metadata": {},
   "outputs": [],
   "source": [
    "moment_of_day = {\n",
    " 'plena noite': 'night',\n",
    " 'amanhecer': 'dawn',\n",
    " 'pleno dia': 'day',\n",
    " 'anoitecer': 'nightfall',\n",
    " 'plena noite': 'night',\n",
    " 'pleno dia': 'day',\n",
    " 'amanhecer': 'dawn',\n",
    " 'anoitecer': 'nightfall',\n",
    " 'nan': 'nan'\n",
    "}\n",
    "df['moment_of_day'] = df.fase_dia.fillna('nan').apply(lambda x: moment_of_day[x.lower().strip()])\n",
    "\n",
    "df = df[df.moment_of_day != 'nan']"
   ]
  },
  {
   "cell_type": "code",
   "execution_count": 22,
   "metadata": {},
   "outputs": [],
   "source": [
    "km_str = df.km.str.replace(',','.')\n",
    "km_float = km_str.astype(float)\n",
    "\n",
    "km_float = km_float.fillna(99999)\n",
    "\n",
    "km_int = km_float.appround(x)))\n",
    "df['km_int'] = km_int"
   ]
  },
  {
   "cell_type": "code",
   "execution_count": 23,
   "metadata": {},
   "outputs": [],
   "source": [
    "br_int = df.br.fillna(99999).astype(int)\n",
    "br_str = br_int.astype(object)\n",
    "\n",
    "df['br_str'] = br_str"
   ]
  },
  {
   "cell_type": "code",
   "execution_count": 24,
   "metadata": {},
   "outputs": [
    {
     "data": {
      "text/plain": [
       "Index(['br', 'causa_acidente', 'classificacao_acidente',\n",
       "       'condicao_metereologica', 'delegacia', 'dia_semana', 'fase_dia',\n",
       "       'feridos', 'feridos_graves', 'feridos_leves', 'ignorados', 'ilesos',\n",
       "       'km', 'latitude', 'longitude', 'mortos', 'municipio', 'pessoas',\n",
       "       'regional', 'sentido_via', 'tipo_acidente', 'tipo_pista', 'tracado_via',\n",
       "       'uf', 'uop', 'uso_solo', 'veiculos', 'hora', 'ano', 'mes', 'dia',\n",
       "       'target', 'weekday', 'accident_type', 'accident_type_simplified',\n",
       "       'accident_cause_simplified', 'climate', 'moment_of_day', 'km_int',\n",
       "       'br_str'],\n",
       "      dtype='object')"
      ]
     },
     "execution_count": 24,
     "metadata": {},
     "output_type": "execute_result"
    }
   ],
   "source": [
    "df.columns"
   ]
  },
  {
   "cell_type": "code",
   "execution_count": 25,
   "metadata": {},
   "outputs": [],
   "source": [
    "road_type = {\n",
    "    'simples': 'simple', \n",
    "    'dupla': 'double', \n",
    "    'múltipla': 'multiple', \n",
    "    'simples': 'simple', \n",
    "    'dupla': 'double', \n",
    "    'múltipla': 'multiple',\n",
    "}\n",
    "\n",
    "df['road_type'] = df.tipo_pista.apply(lambda x: road_type[x.lower().strip()])"
   ]
  },
  {
   "cell_type": "code",
   "execution_count": 26,
   "metadata": {},
   "outputs": [],
   "source": [
    "road_way = {\n",
    "    'crescente': 'up', \n",
    "    'decrescente': 'down', \n",
    "    'não informado': 'notavailable', \n",
    "    'crescente': 'up', \n",
    "    'decrescente': 'down',\n",
    "}\n",
    "df['road_way'] = df.sentido_via.apply(lambda x: road_way[x.strip().lower()])"
   ]
  },
  {
   "cell_type": "code",
   "execution_count": 27,
   "metadata": {},
   "outputs": [],
   "source": [
    "road_layout = {\n",
    "    'reta': 'straight',\n",
    "    'curva': 'curve',\n",
    "    'não informado': 'notavailable',\n",
    "    'interseção de vias': 'intersection',\n",
    "    'rotatória': 'roundabout',\n",
    "    'desvio temporário': 'temporary detour',\n",
    "    'viaduto': 'viaduct',\n",
    "    'ponte': 'bridge',\n",
    "    'retorno regulamentado': 'return',\n",
    "    'túnel': 'tunnel',\n",
    "    'reta': 'straight',\n",
    "    'curva': 'curve',\n",
    "    'cruzamento': 'crossing',\n",
    "}\n",
    "df['road_layout'] = df.tracado_via.apply(lambda x: road_layout[x.lower().strip()])"
   ]
  },
  {
   "cell_type": "code",
   "execution_count": 28,
   "metadata": {},
   "outputs": [],
   "source": [
    "df.drop(['causa_acidente', 'dia_semana', 'tipo_acidente', 'classificacao_acidente', \n",
    "         'condicao_metereologica', 'fase_dia', 'km', 'br', 'tipo_pista', 'sentido_via',\n",
    "         'tracado_via'], axis=1, inplace=True)"
   ]
  },
  {
   "cell_type": "code",
   "execution_count": 29,
   "metadata": {},
   "outputs": [],
   "source": [
    "df.to_csv('../data/datatran_2016-2017.csv', index=False)"
   ]
  }
 ],
 "metadata": {
  "kernelspec": {
   "display_name": "Python 3",
   "language": "python",
   "name": "python3"
  },
  "language_info": {
   "codemirror_mode": {
    "name": "ipython",
    "version": 3
   },
   "file_extension": ".py",
   "mimetype": "text/x-python",
   "name": "python",
   "nbconvert_exporter": "python",
   "pygments_lexer": "ipython3",
   "version": "3.6.1"
  }
 },
 "nbformat": 4,
 "nbformat_minor": 2
}
